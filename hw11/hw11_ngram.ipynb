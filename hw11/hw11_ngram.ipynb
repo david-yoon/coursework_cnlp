{
 "cells": [
  {
   "cell_type": "code",
   "execution_count": 1290,
   "metadata": {
    "collapsed": true
   },
   "outputs": [],
   "source": [
    "'''\n",
    "Created on 2016. 6. 12\n",
    "\n",
    "@author: dato\n",
    "@desc: cnlp hw11 (N-Gram Models)\n",
    "'''\n",
    "#-*- coding: utf-8 -*-\n",
    "\n",
    "import io\n",
    "import numpy as np"
   ]
  },
  {
   "cell_type": "code",
   "execution_count": 1291,
   "metadata": {
    "collapsed": true
   },
   "outputs": [],
   "source": [
    "# data_file = './ALICES_ADVENTURES_ IN_WONDERLAND.txt'\n",
    "data_file = './Pride_and_Prejudice.txt'"
   ]
  },
  {
   "cell_type": "code",
   "execution_count": 1292,
   "metadata": {
    "collapsed": false
   },
   "outputs": [],
   "source": [
    "f = io.open(data_file, 'r', encoding='utf-8')\n",
    "data = f.read()"
   ]
  },
  {
   "cell_type": "markdown",
   "metadata": {},
   "source": [
    "# pre-processing"
   ]
  },
  {
   "cell_type": "code",
   "execution_count": 1293,
   "metadata": {
    "collapsed": false
   },
   "outputs": [
    {
     "data": {
      "text/plain": [
       "700801"
      ]
     },
     "execution_count": 1293,
     "metadata": {},
     "output_type": "execute_result"
    }
   ],
   "source": [
    "# strip, remove newline, remove double spacing\n",
    "data = data.strip()\n",
    "data = data.replace(\"\\n\", \" \")\n",
    "data = data.replace(\"  \", \" \")\n",
    "data = data.replace(\"  \", \" \")\n",
    "data = data.replace(\"  \", \" \")\n",
    "data = data.replace(\"  \", \" \")\n",
    "data = data.replace(\"  \", \" \")\n",
    "data = data.lower()\n",
    "len(data)"
   ]
  },
  {
   "cell_type": "code",
   "execution_count": 1294,
   "metadata": {
    "collapsed": false
   },
   "outputs": [],
   "source": [
    "def cal_doc_dic(data, n):\n",
    "\n",
    "    doc_dic = {}\n",
    "    buffer = []\n",
    "    \n",
    "    for i in range(n):\n",
    "        buffer.append('a')   #dummy data\n",
    "    \n",
    "    for char in data:\n",
    "        \n",
    "        str_char = str(char)\n",
    "\n",
    "        buffer[:] = buffer[1:]   #shift-n\n",
    "        buffer.append(str_char)\n",
    "        key = \"\".join(buffer)\n",
    "        \n",
    "#         print buffer\n",
    "        \n",
    "        if doc_dic.has_key(key):\n",
    "            doc_dic[key] += 1\n",
    "#             break\n",
    "        else:\n",
    "            doc_dic[key] = 1            \n",
    "\n",
    "    print \"# of vocabulary in n-gram : %d\" % len(doc_dic)\n",
    "    \n",
    "    return doc_dic"
   ]
  },
  {
   "cell_type": "code",
   "execution_count": 1305,
   "metadata": {
    "collapsed": false
   },
   "outputs": [],
   "source": [
    "def norm_doc_dic(dic_n, dic_n_1, n):\n",
    "\n",
    "    new_dic = {}\n",
    "    \n",
    "    if n is 1:\n",
    "        for key in dic_n.keys():\n",
    "            new_dic[key] =  dic_n[key] / float(sum(dic_n.values()))\n",
    "        \n",
    "    else:\n",
    "        for key in dic_n.keys():\n",
    "            if dic_n_1.has_key(key[:-1]) :\n",
    "                new_dic[key] =  dic_n[key] / float(dic_n_1[key[:-1]])\n",
    "    \n",
    "    return new_dic"
   ]
  },
  {
   "cell_type": "code",
   "execution_count": 1306,
   "metadata": {
    "collapsed": true
   },
   "outputs": [],
   "source": [
    "def log_doc_dic(dic):\n",
    "    \n",
    "    new_dic = {}\n",
    "        \n",
    "    for key in dic.keys():\n",
    "        new_dic[key] =  np.log(dic[key])\n",
    "        \n",
    "    return new_dic"
   ]
  },
  {
   "cell_type": "code",
   "execution_count": 1307,
   "metadata": {
    "collapsed": true
   },
   "outputs": [],
   "source": [
    "def check_prob(ngram_nom, char_list, data):\n",
    "    prob = 0\n",
    "    \n",
    "    list_char = list(char_list)\n",
    "    \n",
    "    for char in list_char:\n",
    "        \n",
    "        comp_char = data+char\n",
    "#         print comp_char\n",
    "        \n",
    "        if ngram_nom.has_key(comp_char):\n",
    "            prob += ngram_nom[comp_char]\n",
    "#             print ngram_nom[comp_char]\n",
    "    \n",
    "    return prob"
   ]
  },
  {
   "cell_type": "code",
   "execution_count": 1308,
   "metadata": {
    "collapsed": false
   },
   "outputs": [
    {
     "name": "stdout",
     "output_type": "stream",
     "text": [
      "# of dictionary in data : 27\n"
     ]
    }
   ],
   "source": [
    "doc_dic = cal_doc_dic2(data, 1)"
   ]
  },
  {
   "cell_type": "code",
   "execution_count": 1309,
   "metadata": {
    "collapsed": false
   },
   "outputs": [],
   "source": [
    "# remove unwanted char from data\n",
    "\n",
    "char_list = {'a', 'b', 'c', 'd', 'e', 'f', 'g', 'h', 'i', 'j', 'k', 'l', 'm', 'n', 'o', 'p', 'q', 'r', 's', 't', 'u', 'v', 'w', 'x', 'y', 'z', ' '}\n",
    "target_dic = dict.fromkeys(char_list, 1)\n",
    "len(target_dic)\n",
    "\n",
    "for char in doc_dic.keys():\n",
    "    if target_dic.has_key(char):\n",
    "        continue\n",
    "    else:        \n",
    "        data = data.replace(char, \"\") "
   ]
  },
  {
   "cell_type": "markdown",
   "metadata": {},
   "source": [
    "# calcuate n-gram dictionary"
   ]
  },
  {
   "cell_type": "code",
   "execution_count": 1310,
   "metadata": {
    "collapsed": false
   },
   "outputs": [
    {
     "name": "stdout",
     "output_type": "stream",
     "text": [
      "# of vocabulary in n-gram : 27\n",
      "# of vocabulary in n-gram : 519\n",
      "# of vocabulary in n-gram : 4197\n",
      "# of vocabulary in n-gram : 16877\n",
      "# of vocabulary in n-gram : 47406\n"
     ]
    }
   ],
   "source": [
    "unigram_cnt = cal_doc_dic(data, 1)\n",
    "bigram_cnt = cal_doc_dic(data, 2)\n",
    "trigram_cnt = cal_doc_dic(data, 3)\n",
    "quadgram_cnt = cal_doc_dic(data, 4)\n",
    "pentagram_cnt = cal_doc_dic(data, 5)"
   ]
  },
  {
   "cell_type": "code",
   "execution_count": 1311,
   "metadata": {
    "collapsed": false
   },
   "outputs": [],
   "source": [
    "unigarm_nom = norm_doc_dic(unigram_cnt, unigram_cnt, 1)\n",
    "bigram_nom = norm_doc_dic(bigram_cnt, unigram_cnt, 2)\n",
    "trigram_nom = norm_doc_dic(trigram_cnt, bigram_cnt, 3)\n",
    "quadgram_nom = norm_doc_dic(quadgram_cnt, trigram_cnt, 4)\n",
    "pentagram_nom = norm_doc_dic(pentagram_cnt, quadgram_cnt, 5)\n",
    "\n",
    "\n",
    "ngram_nom = []\n",
    "ngram_nom.append(unigram_nom)\n",
    "ngram_nom.append(bigram_nom)\n",
    "ngram_nom.append(trigram_nom)\n",
    "ngram_nom.append(quadgram_nom)\n",
    "ngram_nom.append(pentagram_nom)"
   ]
  },
  {
   "cell_type": "code",
   "execution_count": 1312,
   "metadata": {
    "collapsed": false
   },
   "outputs": [
    {
     "name": "stdout",
     "output_type": "stream",
     "text": [
      "1.00002343896\n",
      "1.0\n",
      "1.0\n",
      "1.0\n"
     ]
    }
   ],
   "source": [
    "#  check the prob table\n",
    "print check_prob(bigram_nom, char_list, 'a')\n",
    "print check_prob(trigram_nom, char_list, 'ab')\n",
    "print check_prob(quadgram_nom, char_list, 'stu')\n",
    "print check_prob(pentagram_nom, char_list, 'help')"
   ]
  },
  {
   "cell_type": "code",
   "execution_count": 1313,
   "metadata": {
    "collapsed": true
   },
   "outputs": [],
   "source": [
    "bigram_log = log_doc_dic(bigram_nom)\n",
    "trigram_log = log_doc_dic(trigram_nom)\n",
    "quadgram_log = log_doc_dic(quadgram_nom)\n",
    "pentagram_log = log_doc_dic(pentagram_nom)"
   ]
  },
  {
   "cell_type": "code",
   "execution_count": null,
   "metadata": {
    "collapsed": true
   },
   "outputs": [],
   "source": []
  },
  {
   "cell_type": "markdown",
   "metadata": {},
   "source": [
    "# 1. Generate Random Sequence & log prob"
   ]
  },
  {
   "cell_type": "code",
   "execution_count": 1314,
   "metadata": {
    "collapsed": false
   },
   "outputs": [],
   "source": [
    "def predic_next_char(ngram_nom, char_list, order, given_char):\n",
    "    sample = np.random.uniform(0, 1)\n",
    "    prob = 0\n",
    "    # print sample\n",
    "    \n",
    "    last_char = \"\"\n",
    "    \n",
    "    if order == 1:\n",
    "        given_char = \"\"\n",
    "        \n",
    "    for char in char_list:\n",
    "        target = given_char + char\n",
    "        \n",
    "        if ngram_nom[order-1].has_key(target):\n",
    "            prob += ngram_nom[order-1][target]\n",
    "            last_char = char\n",
    "            # print char + \" \" + str(ngram_nom[order-1][target]) + \"₩t \" + str(prob)\n",
    "            \n",
    "        if prob > sample:\n",
    "            return char, np.log(ngram_nom[order-1][target])\n",
    "        \n",
    "    return last_char, np.log(ngram_nom[order-1][target])"
   ]
  },
  {
   "cell_type": "code",
   "execution_count": 1315,
   "metadata": {
    "collapsed": false
   },
   "outputs": [
    {
     "name": "stdout",
     "output_type": "stream",
     "text": [
      "('t', -2.525113374071708)\n",
      "('d', -2.8584926888377664)\n",
      "('l', -0.71563583033292399)\n",
      "('t', -0.53492317534505118)\n",
      "('i', -0.916290731874155)\n"
     ]
    }
   ],
   "source": [
    "print predic_next_char(ngram_nom, char_list, 1, '')\n",
    "print predic_next_char(ngram_nom, char_list, 2, 'a')\n",
    "print predic_next_char(ngram_nom, char_list, 3, 'al')\n",
    "print predic_next_char(ngram_nom, char_list, 4, 'ali')\n",
    "print predic_next_char(ngram_nom, char_list, 5, 'alic')"
   ]
  },
  {
   "cell_type": "code",
   "execution_count": 1316,
   "metadata": {
    "collapsed": false
   },
   "outputs": [],
   "source": [
    "def gen_random(ngram_nom, char_list, order, length):\n",
    "\n",
    "    sum_ll = 0\n",
    "    ll = 0\n",
    "\n",
    "    start_char = \"\"\n",
    "    tmp_char = \"\"\n",
    "    \n",
    "    for i in range(1, order):\n",
    "        tmp_char, ll = predic_next_char(ngram_nom, char_list, i, start_char)\n",
    "        start_char += tmp_char\n",
    "        sum_ll += ll\n",
    "    \n",
    "    result = \"\"\n",
    "    result += start_char\n",
    "    \n",
    "    for x in range(length-order+1):\n",
    "        \n",
    "        tmp_char, ll = predic_next_char(ngram_nom, char_list, order, start_char)\n",
    "        start_char = start_char[1:] + tmp_char\n",
    "        \n",
    "        result += tmp_char \n",
    "        sum_ll += ll\n",
    "    \n",
    "    return result, np.exp(sum_ll)"
   ]
  },
  {
   "cell_type": "code",
   "execution_count": 1319,
   "metadata": {
    "collapsed": false
   },
   "outputs": [
    {
     "name": "stdout",
     "output_type": "stream",
     "text": [
      "('pndde b eow  kudot  ', 2.5272825754077405e-25)\n",
      "('d mero st o t ind ak', 7.6688185952950408e-19)\n",
      "('h a vok wers thery t', 1.3267908828235493e-16)\n",
      "('ms thered boutes and', 2.5176159894064899e-17)\n",
      "('pedit the regain bot', 2.3158665251667929e-15)\n"
     ]
    }
   ],
   "source": [
    "print gen_random(ngram_nom, char_list, 1, 20)\n",
    "print gen_random(ngram_nom, char_list, 2, 20)\n",
    "print gen_random(ngram_nom, char_list, 3, 20)\n",
    "print gen_random(ngram_nom, char_list, 4, 20)\n",
    "print gen_random(ngram_nom, char_list, 5, 20)"
   ]
  },
  {
   "cell_type": "code",
   "execution_count": 1320,
   "metadata": {
    "collapsed": false
   },
   "outputs": [],
   "source": [
    "def print_gen(order, length, number):\n",
    "    print \"[order=%d, length=%d]\" %(order, length)\n",
    "    \n",
    "    for i in range(number):\n",
    "        sen, ll = gen_random(ngram_nom, char_list, order, length)\n",
    "        print \"[%d-trial] : \" %(i+1) + sen + \"\\t\" + str(ll)\n",
    "    \n",
    "    print \"\\n\""
   ]
  },
  {
   "cell_type": "code",
   "execution_count": 1326,
   "metadata": {
    "collapsed": false
   },
   "outputs": [
    {
     "name": "stdout",
     "output_type": "stream",
     "text": [
      "[order=1, length=20]\n",
      "[1-trial] : edt icl    hsnaa tl \t1.64166984739e-22\n",
      "[2-trial] :  letsovnsrwe  tr tin\t1.27079359636e-24\n",
      "[3-trial] :  lloynpawbke trt rtr\t3.06431991073e-27\n",
      "[4-trial] : lirsne u eoocie hptt\t7.53597843782e-25\n",
      "[5-trial] : sm aroi  citenoueart\t9.47340352926e-25\n",
      "\n",
      "\n",
      "[order=2, length=20]\n",
      "[1-trial] : r his blel lest thar\t1.76501575168e-19\n",
      "[2-trial] :  an tto y wlly id wh\t6.50893261067e-20\n",
      "[3-trial] :  rshat rtowintrsioul\t2.05881943886e-22\n",
      "[4-trial] : shir esarctofr armar\t3.65612494329e-23\n",
      "[5-trial] : gins iclit onanf s b\t1.20152342522e-22\n",
      "\n",
      "\n",
      "[order=3, length=20]\n",
      "[1-trial] : spink shapprear at w\t2.83321864742e-18\n",
      "[2-trial] : o turhat twom tionev\t9.65932771375e-19\n",
      "[3-trial] : illitat horgivingett\t3.37968851833e-19\n",
      "[4-trial] : cceme dares the stri\t2.25494086317e-18\n",
      "[5-trial] : m hat lialwast hish \t2.25135549865e-17\n",
      "\n",
      "\n",
      "[order=4, length=20]\n",
      "[1-trial] : s inford i lastoward\t3.61462317953e-15\n",
      "[2-trial] : and wickham all benn\t3.90299802369e-10\n",
      "[3-trial] : s mr birty to a virt\t1.99428397453e-15\n",
      "[4-trial] : stoo accept at hurro\t5.09518494519e-16\n",
      "[5-trial] : ner her happined go \t8.70539050285e-15\n",
      "\n",
      "\n",
      "[order=5, length=20]\n",
      "[1-trial] : impossible to the th\t1.82720848658e-09\n",
      "[2-trial] : ieved the day such a\t7.09343407645e-12\n",
      "[3-trial] : e want of an expresi\t6.13361493618e-13\n",
      "[4-trial] :  or and can but jane\t4.56372057852e-12\n",
      "[5-trial] : om my betters man wh\t1.07144692611e-13\n",
      "\n",
      "\n"
     ]
    }
   ],
   "source": [
    "print_gen(1, 20, 5)\n",
    "print_gen(2, 20, 5)\n",
    "print_gen(3, 20, 5)\n",
    "print_gen(4, 20, 5)\n",
    "print_gen(5, 20, 5)"
   ]
  },
  {
   "cell_type": "markdown",
   "metadata": {},
   "source": [
    "# complete future character"
   ]
  },
  {
   "cell_type": "code",
   "execution_count": 1327,
   "metadata": {
    "collapsed": true
   },
   "outputs": [],
   "source": [
    "def complete_chars(ngram_nom, char_list, order, given_char):\n",
    "\n",
    "    sum_ll = 0\n",
    "    ll = 0\n",
    "    \n",
    "    start_char = given_char\n",
    "    tmp_char = \"\"\n",
    "    \n",
    "    match_order = (order-1) - len(given_char)\n",
    "    \n",
    "    if match_order > 0:\n",
    "               \n",
    "        for i in range(order-match_order, order):\n",
    "            tmp_char, ll = predic_next_char(ngram_nom, char_list, i, start_char)\n",
    "            start_char += tmp_char\n",
    "            sum_ll += ll\n",
    "            \n",
    "            if tmp_char is \" \":\n",
    "                return start_char, np.exp(sum_ll)\n",
    "    \n",
    "\n",
    "    result = \"\"\n",
    "    result += start_char\n",
    "    \n",
    "    start_char = start_char[-(order-1):]\n",
    "    \n",
    "    for x in range(10000):\n",
    "        \n",
    "        tmp_char, ll = predic_next_char(ngram_nom, char_list, order, start_char)\n",
    "        start_char = start_char[1:] + tmp_char\n",
    "        \n",
    "        result += tmp_char \n",
    "        sum_ll += ll\n",
    "        \n",
    "        if tmp_char is ' ':\n",
    "            break\n",
    "    \n",
    "    return result, np.exp(sum_ll)"
   ]
  },
  {
   "cell_type": "code",
   "execution_count": 1329,
   "metadata": {
    "collapsed": false,
    "scrolled": true
   },
   "outputs": [
    {
     "name": "stdout",
     "output_type": "stream",
     "text": [
      "unigram\n",
      "('tua ', 0.01243380312456531)\n",
      "bigram\n",
      "('tutrshe ', 1.711925397787971e-06)\n",
      "trigram\n",
      "('turpoing ', 0.00011360188035244962)\n",
      "quadgram\n",
      "('tumult ', 0.0018831168831168826)\n",
      "pentagram\n",
      "('turn ', 0.10259740259740259)\n"
     ]
    }
   ],
   "source": [
    "print \"unigram\"\n",
    "print complete_chars(ngram_nom, char_list, 1, \"tu\")\n",
    "print \"bigram\"\n",
    "print complete_chars(ngram_nom, char_list, 2, \"tu\")\n",
    "print \"trigram\"\n",
    "print complete_chars(ngram_nom, char_list, 3, \"tu\")\n",
    "print \"quadgram\"\n",
    "print complete_chars(ngram_nom, char_list, 4, \"tu\")\n",
    "print \"pentagram\"\n",
    "print complete_chars(ngram_nom, char_list, 5, \"tu\")"
   ]
  },
  {
   "cell_type": "code",
   "execution_count": null,
   "metadata": {
    "collapsed": true
   },
   "outputs": [],
   "source": []
  }
 ],
 "metadata": {
  "anaconda-cloud": {},
  "kernelspec": {
   "display_name": "Python [default]",
   "language": "python",
   "name": "python2"
  },
  "language_info": {
   "codemirror_mode": {
    "name": "ipython",
    "version": 2
   },
   "file_extension": ".py",
   "mimetype": "text/x-python",
   "name": "python",
   "nbconvert_exporter": "python",
   "pygments_lexer": "ipython2",
   "version": "2.7.12"
  }
 },
 "nbformat": 4,
 "nbformat_minor": 0
}

{
 "cells": [
  {
   "cell_type": "code",
   "execution_count": 19,
   "metadata": {
    "collapsed": false
   },
   "outputs": [],
   "source": [
    "'''\n",
    "Created on 2016. 6. 17\n",
    "@author: dato\n",
    "@desc: cnlp hw12 (Midden Markov Model)\n",
    "'''\n",
    "#-*- coding: utf-8 -*-\n",
    "\n",
    "import io\n",
    "import numpy as np\n",
    "import scipy as sp\n",
    "from scipy import stats"
   ]
  },
  {
   "cell_type": "code",
   "execution_count": 20,
   "metadata": {
    "collapsed": true
   },
   "outputs": [],
   "source": [
    "def max_index(M):\n",
    "    \n",
    "    max = 0\n",
    "    index = 0\n",
    "    \n",
    "    for i in range( len(M) ) :\n",
    "        \n",
    "        if M[i] > max: \n",
    "            max = M[i]\n",
    "            index = i\n",
    "        \n",
    "    return index"
   ]
  },
  {
   "cell_type": "markdown",
   "metadata": {},
   "source": [
    "# prob: 1 sample generation"
   ]
  },
  {
   "cell_type": "code",
   "execution_count": 22,
   "metadata": {
    "collapsed": false
   },
   "outputs": [],
   "source": [
    "def sample_gen(N, A, B, pi):\n",
    "    \n",
    "    y = [] # output\n",
    "    \n",
    "    z = [] # output prob.\n",
    "    ll = []\n",
    "    \n",
    "    state_prob = pi   # 0='Fair' , 1='Bias'\n",
    "    \n",
    "    a_data = []\n",
    "    b_data = []\n",
    "    \n",
    "    for i in range(A.shape[1]):\n",
    "        a_data.append(i)\n",
    "    \n",
    "    for i in range(B.shape[1]):\n",
    "        b_data.append(i)\n",
    "    \n",
    "    a_data = np.asarray(a_data)\n",
    "    b_data = np.asarray(b_data)\n",
    "    \n",
    "    for i in range(N):\n",
    "        # state prob = cur state X transition prob.\n",
    "        state_prob = state_prob.dot(A)\n",
    "        \n",
    "        # select one state according to the state probability\n",
    "        select = stats.rv_discrete(name='custm', values=(a_data, state_prob)).rvs(size=1)\n",
    "#         select = max_index( state_prob )\n",
    "        \n",
    "        symbol_prob = B[select]\n",
    "        # select one symbol according to the emission probability\n",
    "        symbol = stats.rv_discrete(name='custm', values=(b_data, symbol_prob)).rvs(size=1)\n",
    "\n",
    "        y.append(symbol[0])\n",
    "        z.append(state_prob[select][0])\n",
    "        ll.append( np.log(state_prob[select][0]) )\n",
    "\n",
    "    return y, z, ll"
   ]
  },
  {
   "cell_type": "code",
   "execution_count": 23,
   "metadata": {
    "collapsed": false
   },
   "outputs": [
    {
     "ename": "ValueError",
     "evalue": "xk and pk need to have the same length.",
     "output_type": "error",
     "traceback": [
      "\u001b[0;31m\u001b[0m",
      "\u001b[0;31mValueError\u001b[0mTraceback (most recent call last)",
      "\u001b[0;32m<ipython-input-23-160093eebab4>\u001b[0m in \u001b[0;36m<module>\u001b[0;34m()\u001b[0m\n\u001b[1;32m      3\u001b[0m \u001b[0mpi\u001b[0m\u001b[0;34m=\u001b[0m \u001b[0mnp\u001b[0m\u001b[0;34m.\u001b[0m\u001b[0marray\u001b[0m\u001b[0;34m(\u001b[0m\u001b[0;34m[\u001b[0m\u001b[0;36m0.5\u001b[0m\u001b[0;34m,\u001b[0m\u001b[0;36m0.5\u001b[0m\u001b[0;34m]\u001b[0m\u001b[0;34m)\u001b[0m\u001b[0;34m\u001b[0m\u001b[0m\n\u001b[1;32m      4\u001b[0m \u001b[0;34m\u001b[0m\u001b[0m\n\u001b[0;32m----> 5\u001b[0;31m \u001b[0my\u001b[0m\u001b[0;34m,\u001b[0m \u001b[0mz\u001b[0m\u001b[0;34m,\u001b[0m \u001b[0ml\u001b[0m \u001b[0;34m=\u001b[0m \u001b[0msample_gen\u001b[0m\u001b[0;34m(\u001b[0m\u001b[0;36m10\u001b[0m\u001b[0;34m,\u001b[0m \u001b[0mA\u001b[0m\u001b[0;34m,\u001b[0m \u001b[0mB\u001b[0m\u001b[0;34m,\u001b[0m \u001b[0mpi\u001b[0m\u001b[0;34m)\u001b[0m\u001b[0;34m\u001b[0m\u001b[0m\n\u001b[0m\u001b[1;32m      6\u001b[0m \u001b[0;32mprint\u001b[0m \u001b[0;34m'sequence \\n'\u001b[0m \u001b[0;34m+\u001b[0m \u001b[0mstr\u001b[0m\u001b[0;34m(\u001b[0m\u001b[0my\u001b[0m\u001b[0;34m)\u001b[0m\u001b[0;34m\u001b[0m\u001b[0m\n\u001b[1;32m      7\u001b[0m \u001b[0;32mprint\u001b[0m \u001b[0;34m'probability \\n'\u001b[0m \u001b[0;34m+\u001b[0m \u001b[0mstr\u001b[0m\u001b[0;34m(\u001b[0m\u001b[0mz\u001b[0m\u001b[0;34m)\u001b[0m\u001b[0;34m\u001b[0m\u001b[0m\n",
      "\u001b[0;32m<ipython-input-22-a5d028e5a8c6>\u001b[0m in \u001b[0;36msample_gen\u001b[0;34m(N, A, B, pi)\u001b[0m\n\u001b[1;32m     30\u001b[0m         \u001b[0msymbol_prob\u001b[0m \u001b[0;34m=\u001b[0m \u001b[0mB\u001b[0m\u001b[0;34m[\u001b[0m\u001b[0mselect\u001b[0m\u001b[0;34m]\u001b[0m\u001b[0;34m\u001b[0m\u001b[0m\n\u001b[1;32m     31\u001b[0m         \u001b[0;31m# select one symbol according to the emission probability\u001b[0m\u001b[0;34m\u001b[0m\u001b[0;34m\u001b[0m\u001b[0m\n\u001b[0;32m---> 32\u001b[0;31m         \u001b[0msymbol\u001b[0m \u001b[0;34m=\u001b[0m \u001b[0mstats\u001b[0m\u001b[0;34m.\u001b[0m\u001b[0mrv_discrete\u001b[0m\u001b[0;34m(\u001b[0m\u001b[0mname\u001b[0m\u001b[0;34m=\u001b[0m\u001b[0;34m'custm'\u001b[0m\u001b[0;34m,\u001b[0m \u001b[0mvalues\u001b[0m\u001b[0;34m=\u001b[0m\u001b[0;34m(\u001b[0m\u001b[0mb_data\u001b[0m\u001b[0;34m,\u001b[0m \u001b[0msymbol_prob\u001b[0m\u001b[0;34m)\u001b[0m\u001b[0;34m)\u001b[0m\u001b[0;34m.\u001b[0m\u001b[0mrvs\u001b[0m\u001b[0;34m(\u001b[0m\u001b[0msize\u001b[0m\u001b[0;34m=\u001b[0m\u001b[0;36m1\u001b[0m\u001b[0;34m)\u001b[0m\u001b[0;34m\u001b[0m\u001b[0m\n\u001b[0m\u001b[1;32m     33\u001b[0m \u001b[0;34m\u001b[0m\u001b[0m\n\u001b[1;32m     34\u001b[0m         \u001b[0my\u001b[0m\u001b[0;34m.\u001b[0m\u001b[0mappend\u001b[0m\u001b[0;34m(\u001b[0m\u001b[0msymbol\u001b[0m\u001b[0;34m[\u001b[0m\u001b[0;36m0\u001b[0m\u001b[0;34m]\u001b[0m\u001b[0;34m)\u001b[0m\u001b[0;34m\u001b[0m\u001b[0m\n",
      "\u001b[0;32m/home/dato/anaconda2/envs/tensorflow/lib/python2.7/site-packages/scipy/stats/_distn_infrastructure.pyc\u001b[0m in \u001b[0;36m__init__\u001b[0;34m(self, a, b, name, badvalue, moment_tol, values, inc, longname, shapes, extradoc, seed)\u001b[0m\n\u001b[1;32m   3311\u001b[0m \u001b[0;34m\u001b[0m\u001b[0m\n\u001b[1;32m   3312\u001b[0m         \u001b[0;32mif\u001b[0m \u001b[0mlen\u001b[0m\u001b[0;34m(\u001b[0m\u001b[0mxk\u001b[0m\u001b[0;34m)\u001b[0m \u001b[0;34m!=\u001b[0m \u001b[0mlen\u001b[0m\u001b[0;34m(\u001b[0m\u001b[0mpk\u001b[0m\u001b[0;34m)\u001b[0m\u001b[0;34m:\u001b[0m\u001b[0;34m\u001b[0m\u001b[0m\n\u001b[0;32m-> 3313\u001b[0;31m             \u001b[0;32mraise\u001b[0m \u001b[0mValueError\u001b[0m\u001b[0;34m(\u001b[0m\u001b[0;34m\"xk and pk need to have the same length.\"\u001b[0m\u001b[0;34m)\u001b[0m\u001b[0;34m\u001b[0m\u001b[0m\n\u001b[0m\u001b[1;32m   3314\u001b[0m         \u001b[0;32mif\u001b[0m \u001b[0;32mnot\u001b[0m \u001b[0mnp\u001b[0m\u001b[0;34m.\u001b[0m\u001b[0mallclose\u001b[0m\u001b[0;34m(\u001b[0m\u001b[0mnp\u001b[0m\u001b[0;34m.\u001b[0m\u001b[0msum\u001b[0m\u001b[0;34m(\u001b[0m\u001b[0mpk\u001b[0m\u001b[0;34m)\u001b[0m\u001b[0;34m,\u001b[0m \u001b[0;36m1\u001b[0m\u001b[0;34m)\u001b[0m\u001b[0;34m:\u001b[0m\u001b[0;34m\u001b[0m\u001b[0m\n\u001b[1;32m   3315\u001b[0m             \u001b[0;32mraise\u001b[0m \u001b[0mValueError\u001b[0m\u001b[0;34m(\u001b[0m\u001b[0;34m\"The sum of provided pk is not 1.\"\u001b[0m\u001b[0;34m)\u001b[0m\u001b[0;34m\u001b[0m\u001b[0m\n",
      "\u001b[0;31mValueError\u001b[0m: xk and pk need to have the same length."
     ]
    }
   ],
   "source": [
    "A = np.array([[0.7, 0.3], [0.9, 0.1]])\n",
    "B = np.array([[0.5, 0.5], [0.2, 0.8]])\n",
    "pi= np.array([0.5,0.5])\n",
    "\n",
    "y, z, l = sample_gen(10, A, B, pi)\n",
    "print 'sequence \\n' + str(y)\n",
    "print 'probability \\n' + str(z)\n",
    "print 'log liklihood \\n' + str(l)"
   ]
  },
  {
   "cell_type": "markdown",
   "metadata": {},
   "source": [
    "# prob 2: forward backward"
   ]
  },
  {
   "cell_type": "code",
   "execution_count": 1124,
   "metadata": {
    "collapsed": true
   },
   "outputs": [],
   "source": [
    "def forward(Y, A, B, pi):    \n",
    "    N = len(Y)\n",
    "\n",
    "    a = np.ndarray(shape=(N,len(pi)), dtype=float)\n",
    "\n",
    "    # initial value\n",
    "    for k in range(len(pi)):\n",
    "        a[0][k] = pi[k]*B[k][Y[0]]\n",
    "\n",
    "    # loop\n",
    "    # n : step, k : state (0, 1, 2, ...)\n",
    "    for n in range(1, N):\n",
    "\n",
    "        for k in range(len(pi)):\n",
    "\n",
    "            #inner loop\n",
    "            for j in range(len(pi)):\n",
    "                a[n][k] += a[n-1][j] * A[j][k]\n",
    "\n",
    "            a[n][k] *= B[k][Y[n]]\n",
    "\n",
    "    eval = sum(a[len(a)-1])\n",
    "            \n",
    "    return a, eval"
   ]
  },
  {
   "cell_type": "code",
   "execution_count": 1125,
   "metadata": {
    "collapsed": true
   },
   "outputs": [],
   "source": [
    "def backward(Y, A, B, pi):   \n",
    "\n",
    "    N = len(Y) -1\n",
    "    eval = 0\n",
    "\n",
    "    b = np.ndarray(shape=(N+1,len(pi)), dtype=float)\n",
    "\n",
    "    # initial value\n",
    "    for k in range(len(pi)):\n",
    "        b[N][k] = 1\n",
    "\n",
    "    # # loop\n",
    "    # # n : step, k : state (0, 1, 2, ...)\n",
    "    for n in reversed(range(N)):\n",
    "\n",
    "        for k in range(len(pi)):\n",
    "\n",
    "            #inner loop\n",
    "            for j in range(len(pi)):\n",
    "                b[n][k] += A[k][j] * B[j][Y[n+1]] * b[n+1][j]\n",
    "\n",
    "    for k in range(len(pi)):\n",
    "        eval += pi[k] * B[k][Y[0]] * b[0][k]\n",
    "                \n",
    "    return b, eval"
   ]
  },
  {
   "cell_type": "code",
   "execution_count": 1126,
   "metadata": {
    "collapsed": false
   },
   "outputs": [],
   "source": [
    "def forward_backward(Y, a, b, pi):\n",
    "    \n",
    "    eval = 0\n",
    "    \n",
    "    for k in range(len(pi)):\n",
    "        eval += a[len(Y)-1][k] * b[ len(Y) -1][k]\n",
    "        \n",
    "    return eval"
   ]
  },
  {
   "cell_type": "code",
   "execution_count": null,
   "metadata": {
    "collapsed": true
   },
   "outputs": [],
   "source": []
  },
  {
   "cell_type": "code",
   "execution_count": 1127,
   "metadata": {
    "collapsed": false
   },
   "outputs": [
    {
     "name": "stdout",
     "output_type": "stream",
     "text": [
      "\n",
      " model evaluation with forward procedure: 1.58502375979\n",
      "\n",
      "[[ 0.25        0.1       ]\n",
      " [ 0.1338594   0.01747332]\n",
      " [ 0.05690425  0.0374757 ]\n",
      " [ 0.04199931  0.00658977]\n",
      " [ 0.03064138  0.0071656 ]\n",
      " [ 0.03482664  0.04572085]\n",
      " [ 0.08274921  0.02555542]\n",
      " [ 0.15961216  0.06069606]\n",
      " [ 0.37817748  0.11679065]\n",
      " [ 0.68491791  0.90010585]]\n",
      "\n",
      " model evaluation with backward procedure: 0.000400472761349\n",
      "\n",
      "[[ 0.00109357  0.00127079]\n",
      " [ 0.0027188   0.00236658]\n",
      " [ 0.00438093  0.00493948]\n",
      " [ 0.01043751  0.01212999]\n",
      " [ 0.02595245  0.02256924]\n",
      " [ 0.04175527  0.04724209]\n",
      " [ 0.099971    0.112757  ]\n",
      " [ 0.2383      0.2761    ]\n",
      " [ 0.59        0.53      ]\n",
      " [ 1.          1.        ]]\n",
      "\n",
      " model evaluation with forward/backward procedure: 1.58502375979\n"
     ]
    }
   ],
   "source": [
    "A = np.array([[0.7, 0.3], [0.9, 0.1]])\n",
    "B = np.array([[0.5, 0.5], [0.2, 0.8]])\n",
    "pi= np.array([0.5,0.5])\n",
    "Y = [0, 0, 1, 0, 0, 1, 0, 0, 0, 1]\n",
    "\n",
    "\n",
    "a, eval = forward(Y, A, B, pi)\n",
    "print '\\n model evaluation with forward procedure: ' + str(eval)\n",
    "print '\\n' + str(a)\n",
    "\n",
    "\n",
    "b, eval = backward(Y, A, B, pi)\n",
    "print '\\n model evaluation with backward procedure: ' + str(eval)\n",
    "print '\\n' + str(b)\n",
    "\n",
    "eval = forward_backward(Y, a, b, pi)\n",
    "print '\\n model evaluation with forward/backward procedure: ' + str(eval)"
   ]
  },
  {
   "cell_type": "code",
   "execution_count": null,
   "metadata": {
    "collapsed": true
   },
   "outputs": [],
   "source": []
  },
  {
   "cell_type": "markdown",
   "metadata": {},
   "source": [
    "# prob 3: gamma (simple decoding)"
   ]
  },
  {
   "cell_type": "code",
   "execution_count": 1128,
   "metadata": {
    "collapsed": false
   },
   "outputs": [],
   "source": [
    "def decoding(Y, a, b):\n",
    "\n",
    "    N = len(Y) -1\n",
    "    eval = 0\n",
    "\n",
    "    r = np.ndarray(shape=(N,len(pi)), dtype=float)\n",
    "\n",
    "    for n in range (len(r)):\n",
    "\n",
    "        for k in range(len(pi)):\n",
    "\n",
    "            r[n][k] = a[n][k] * b[n][k]\n",
    "        \n",
    "        r[n] = r[n] / sum(r[n])\n",
    "        \n",
    "\n",
    "    return np.argmax(r, axis=1), r"
   ]
  },
  {
   "cell_type": "code",
   "execution_count": 1129,
   "metadata": {
    "collapsed": false
   },
   "outputs": [],
   "source": [
    "z, r = decoding(Y, a, b)"
   ]
  },
  {
   "cell_type": "code",
   "execution_count": 1130,
   "metadata": {
    "collapsed": false
   },
   "outputs": [
    {
     "name": "stdout",
     "output_type": "stream",
     "text": [
      "decoded states \n",
      " [0 0 0 0 0 1 0 0 0]\n",
      "\n",
      "sequence probability (r_nk) \n",
      "[[ 0.68267719  0.31732281]\n",
      " [ 0.89796924  0.10203076]\n",
      " [ 0.57387471  0.42612529]\n",
      " [ 0.84577762  0.15422238]\n",
      " [ 0.83100086  0.16899914]\n",
      " [ 0.40236238  0.59763762]\n",
      " [ 0.74165921  0.25834079]\n",
      " [ 0.69415893  0.30584107]\n",
      " [ 0.78282847  0.21717153]]\n"
     ]
    }
   ],
   "source": [
    "print 'decoded states \\n ' + str(z) + '\\n'\n",
    "print 'sequence probability (r_nk) \\n' + str(r)"
   ]
  },
  {
   "cell_type": "code",
   "execution_count": null,
   "metadata": {
    "collapsed": true
   },
   "outputs": [],
   "source": []
  },
  {
   "cell_type": "markdown",
   "metadata": {},
   "source": [
    "# Baum-Welch algorithm"
   ]
  },
  {
   "cell_type": "markdown",
   "metadata": {
    "collapsed": true
   },
   "source": [
    "generate true sequence & sampling"
   ]
  },
  {
   "cell_type": "code",
   "execution_count": 1113,
   "metadata": {
    "collapsed": false
   },
   "outputs": [],
   "source": [
    "# K = 2, R = 3\n",
    "\n",
    "A = np.array([[0.8, 0.2], [0.4, 0.6]])\n",
    "B = np.array([[0.2, 0.3, 0.5], [0.8, 0.1, 0.1]])\n",
    "pi= np.array([0.3,0.7])\n",
    "N = 100\n",
    "Y, z, ll = sample_gen(N, A, B, pi)"
   ]
  },
  {
   "cell_type": "code",
   "execution_count": null,
   "metadata": {
    "collapsed": true
   },
   "outputs": [],
   "source": []
  },
  {
   "cell_type": "code",
   "execution_count": 1114,
   "metadata": {
    "collapsed": true
   },
   "outputs": [],
   "source": [
    "A_hat = np.array([[0.5, 0.5], [0.5, 0.5]])\n",
    "B_hat = np.array([[0.3, 0.3, 0.4], [0.3, 0.3, 0.4]])\n",
    "pi_hat = np.array([0.5,0.5])\n",
    "\n",
    "zeta = np.ndarray(shape=(N,2,2), dtype=float)\n",
    "gamma = np.ndarray(shape=(N,2), dtype=float)"
   ]
  },
  {
   "cell_type": "code",
   "execution_count": null,
   "metadata": {
    "collapsed": false
   },
   "outputs": [],
   "source": []
  },
  {
   "cell_type": "code",
   "execution_count": 1115,
   "metadata": {
    "collapsed": false
   },
   "outputs": [],
   "source": [
    "a, eval = forward(Y, A_hat, B_hat, pi_hat)\n",
    "b, eval = backward(Y, A_hat, B_hat, pi_hat)"
   ]
  },
  {
   "cell_type": "code",
   "execution_count": 1116,
   "metadata": {
    "collapsed": false
   },
   "outputs": [],
   "source": [
    "for n in range(N-1):\n",
    "    for j in range(2):\n",
    "        for k in range(2):\n",
    "            zeta[n][j][k] = a[n][j] * A_hat[j][k] * B_hat[k][Y[n+1]] * b[n+1][k]\n",
    "        \n",
    "    zeta[n] = zeta[n] / sum(zeta[n])\n",
    "    \n",
    "for n in range(N):\n",
    "    for j in range(2):\n",
    "        gamma[n][j] = a[n][j] * b[n][j]\n",
    "    \n",
    "    gamma[n] = gamma2[n] / sum(gamma2[n])"
   ]
  },
  {
   "cell_type": "code",
   "execution_count": null,
   "metadata": {
    "collapsed": true
   },
   "outputs": [],
   "source": []
  }
 ],
 "metadata": {
  "kernelspec": {
   "display_name": "Python 2",
   "language": "python",
   "name": "python2"
  },
  "language_info": {
   "codemirror_mode": {
    "name": "ipython",
    "version": 2
   },
   "file_extension": ".py",
   "mimetype": "text/x-python",
   "name": "python",
   "nbconvert_exporter": "python",
   "pygments_lexer": "ipython2",
   "version": "2.7.12"
  }
 },
 "nbformat": 4,
 "nbformat_minor": 0
}

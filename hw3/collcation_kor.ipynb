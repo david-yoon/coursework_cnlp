{
 "cells": [
  {
   "cell_type": "code",
   "execution_count": 327,
   "metadata": {
    "collapsed": false
   },
   "outputs": [],
   "source": [
    "'''\n",
    "Created on 2016. 3. 17\n",
    "\n",
    "@author: dato\n",
    "@Des: cnlp hw2\n",
    "'''\n",
    "#-*- coding: utf-8 -*-\n",
    "\n",
    "\n",
    "import io\n",
    "import math\n",
    "from __future__ import division\n",
    "import sys\n",
    "import nltk\n",
    "\n",
    "from konlpy.tag import Kkma\n",
    "from os import listdir\n",
    "from os.path import isfile, join\n",
    "\n",
    "srcDir = '../data/chosun/'\n",
    "\n"
   ]
  },
  {
   "cell_type": "markdown",
   "metadata": {},
   "source": [
    "# Data Read"
   ]
  },
  {
   "cell_type": "code",
   "execution_count": 328,
   "metadata": {
    "collapsed": false
   },
   "outputs": [],
   "source": [
    "onlyfiles = [f for f in listdir(srcDir) if isfile(join(srcDir, f))]"
   ]
  },
  {
   "cell_type": "code",
   "execution_count": 329,
   "metadata": {
    "collapsed": false
   },
   "outputs": [],
   "source": [
    "selectedfile = ['2015080303370.txt',\n",
    "'2015081003335.txt',\n",
    "'2015081703679.txt',\n",
    "'2015082403196.txt',\n",
    "'2015083103427.txt',\n",
    "'2015090703551.txt',\n",
    "'2015091403800.txt',\n",
    "'2015092103270.txt',\n",
    "'2015100503866.txt',\n",
    "'2015101203682.txt']\n",
    "\n",
    "# selectedfile=['2010071202088.txt']\n",
    "\n",
    "selectedindex=[]"
   ]
  },
  {
   "cell_type": "code",
   "execution_count": null,
   "metadata": {
    "collapsed": true
   },
   "outputs": [],
   "source": []
  },
  {
   "cell_type": "code",
   "execution_count": 330,
   "metadata": {
    "collapsed": false,
    "scrolled": true
   },
   "outputs": [],
   "source": [
    "kkma = Kkma()\n",
    "data = []\n",
    "\n",
    "# doc_num = 5\n",
    "doc_num = len(onlyfiles)\n",
    "\n",
    "for x in range(0,len(onlyfiles)):\n",
    "\n",
    "    path = srcDir + onlyfiles[x]\n",
    "    \n",
    "    if( onlyfiles[x] in selectedfile ):\n",
    "        selectedindex.append(x)\n",
    "\n",
    "#     print ( 'filename=' + onlyfiles[x] )\n",
    "    f = io.open(path, 'r', encoding='utf-8' )\n",
    "    token = kkma.morphs( f.read() )\n",
    "    \n",
    "    wordDic={}\n",
    "    for x in range (0, len(token)):\n",
    "        w = token[x].encode('utf-8')\n",
    "        if w not in wordDic:\n",
    "            wordDic[w] = 1\n",
    "        else:\n",
    "#             wordDic[w] = 1\n",
    "            wordDic[w] += 1\n",
    "    \n",
    "    data.append(wordDic)\n",
    "\n",
    "    doc_num -= 1\n",
    "    if doc_num is 0:\n",
    "        break;"
   ]
  },
  {
   "cell_type": "code",
   "execution_count": 331,
   "metadata": {
    "collapsed": false
   },
   "outputs": [
    {
     "data": {
      "text/plain": [
       "[59, 60, 64, 139, 180, 194, 211, 248, 323, 330]"
      ]
     },
     "execution_count": 331,
     "metadata": {},
     "output_type": "execute_result"
    }
   ],
   "source": [
    "selectedindex"
   ]
  },
  {
   "cell_type": "code",
   "execution_count": 332,
   "metadata": {
    "collapsed": false
   },
   "outputs": [],
   "source": [
    "def word_count_all(data, w):\n",
    "    result = 0\n",
    "    for x in range(len(data)):\n",
    "        try:\n",
    "            result += data[x][w]\n",
    "        except:\n",
    "            result += 0\n",
    "    return result"
   ]
  },
  {
   "cell_type": "code",
   "execution_count": 333,
   "metadata": {
    "collapsed": false
   },
   "outputs": [],
   "source": [
    "# print word_count_all(data, '.')"
   ]
  },
  {
   "cell_type": "code",
   "execution_count": 334,
   "metadata": {
    "collapsed": false
   },
   "outputs": [
    {
     "name": "stdout",
     "output_type": "stream",
     "text": [
      "186678\n"
     ]
    }
   ],
   "source": [
    "N = 0\n",
    "for dic_data in data:\n",
    "    N += sum(dic_data.values())\n",
    "print (N)"
   ]
  },
  {
   "cell_type": "markdown",
   "metadata": {},
   "source": [
    "# Likelihood Calculation"
   ]
  },
  {
   "cell_type": "code",
   "execution_count": 335,
   "metadata": {
    "collapsed": false
   },
   "outputs": [],
   "source": [
    "def ratio_func(k, n, x):\n",
    "    \n",
    "#     print k, n, x\n",
    "    \n",
    "    result = math.pow(x, k)*math.pow(1-x, n-k)\n",
    "    if result==0:\n",
    "        return sys.float_info.min\n",
    "    return float(result)\n"
   ]
  },
  {
   "cell_type": "code",
   "execution_count": 336,
   "metadata": {
    "collapsed": false
   },
   "outputs": [
    {
     "data": {
      "text/plain": [
       "-708.3964185322641"
      ]
     },
     "execution_count": 336,
     "metadata": {},
     "output_type": "execute_result"
    }
   ],
   "source": [
    "math.log(ratio_func(712,26444,0.026))"
   ]
  },
  {
   "cell_type": "code",
   "execution_count": null,
   "metadata": {
    "collapsed": true
   },
   "outputs": [],
   "source": []
  },
  {
   "cell_type": "code",
   "execution_count": 337,
   "metadata": {
    "collapsed": false
   },
   "outputs": [],
   "source": [
    "ratioList=[]\n",
    "\n",
    "for eachdata in data:\n",
    "  \n",
    "    ratioDic={}\n",
    "\n",
    "    for key, value in eachdata.iteritems():\n",
    "    #     print ('key=' + key),\n",
    "    #     print ('value=' + value.__str__())\n",
    "   \n",
    "        c1=float(word_count_all(data, key))\n",
    "        c2=float( sum(eachdata.values() ) )\n",
    "        c12=float(value)\n",
    "        p=float(c2/N)\n",
    "        p1=float(c12/c1)\n",
    "        p2=float((c2-c12)/(N-c1))\n",
    "\n",
    "        result=math.log(ratio_func(c12, c1, p)) + math.log(ratio_func(c2-c12, N-c1,p)) \\\n",
    "                    - math.log(ratio_func(c12, c1, p1)) - math.log(ratio_func(c2-c12, N-c1, p2))\n",
    "        result = float(result * (-2))   \n",
    "\n",
    "        ratioDic[key]=result\n",
    "    \n",
    "    ratioList.append(ratioDic)\n"
   ]
  },
  {
   "cell_type": "code",
   "execution_count": 338,
   "metadata": {
    "collapsed": true
   },
   "outputs": [],
   "source": [
    "from __future__ import print_function"
   ]
  },
  {
   "cell_type": "code",
   "execution_count": 347,
   "metadata": {
    "collapsed": false,
    "scrolled": false
   },
   "outputs": [
    {
     "name": "stdout",
     "output_type": "stream",
     "text": [
      "w2 = 2015080303370.txt\n",
      "58.640596913\t\t9\t543\t6\t앨리스\t\t\n",
      "37.9701199194\t\t149\t543\t9\t책\t\t\n",
      "37.6821294661\t\t65\t543\t7\t읽\t\t\n",
      "24.4843050949\t\t8\t543\t3\t고전\t\t\n",
      "19.2777759997\t\t17\t543\t3\t소녀\t\t\n",
      "17.8265991842\t\t4\t543\t2\t캐럴\t\t\n",
      "16.6474859398\t\t5\t543\t2\t루이스\t\t\n",
      "15.4912340972\t\t31\t543\t3\t이야기\t\t\n",
      "15.2968745467\t\t32\t543\t3\t어리\t\t\n",
      "15.0134803321\t\t7\t543\t2\t거울\t\t\n",
      "w2 = 2015100503866.txt\n",
      "35.7055911755\t\t3\t486\t3\t밤샘\t\t\n",
      "35.7055911755\t\t3\t486\t3\t리포트\t\t\n",
      "33.535887976\t\t56\t486\t6\t뇌\t\t\n",
      "23.8037274503\t\t2\t486\t2\t타자기\t\t\n",
      "22.856342503\t\t11\t486\t3\t잠\t\t\n",
      "21.2147054589\t\t14\t486\t3\t:\t\t\n",
      "19.9898560568\t\t3\t486\t2\t퇴근\t\t\n",
      "16.6416435763\t\t76\t486\t4\t시절\t\t\n",
      "16.1864118959\t\t6\t486\t2\t새벽\t\t\n",
      "13.4962046721\t\t48\t486\t3\t30\t\t\n",
      "w2 = 2015092103270.txt\n",
      "61.682902297\t\t8\t517\t6\t낚싯줄\t\t\n",
      "61.682902297\t\t8\t517\t6\t낚시\t\t\n",
      "42.114303294\t\t5\t517\t4\t저어새\t\t\n",
      "31.4755049723\t\t227\t517\t9\t·\t\t\n",
      "23.5563904479\t\t2\t517\t2\t미끼\t\t\n",
      "23.5563904479\t\t2\t517\t2\t생쥐\t\t\n",
      "23.5563904479\t\t2\t517\t2\t올무\t\t\n",
      "19.7428520717\t\t3\t517\t2\t낚싯바늘\t\t\n",
      "19.7428520717\t\t3\t517\t2\t바늘\t\t\n",
      "19.7428520717\t\t3\t517\t2\t빠끔\t\t\n",
      "w2 = 2015081003335.txt\n",
      "35.6932581804\t\t3\t487\t3\t소금\t\t\n",
      "35.6932581804\t\t3\t487\t3\t쟁이\t\t\n",
      "29.6589785743\t\t16\t487\t4\t로봇\t\t\n",
      "29.5300032602\t\t40\t487\t5\t서울대\t\t\n",
      "28.9735902261\t\t5\t487\t3\t뛰어오르\t\t\n",
      "26.1534421462\t\t7\t487\t3\t비스\t\t\n",
      "23.6240026082\t\t32\t487\t4\t연구소\t\t\n",
      "21.2037423077\t\t91\t487\t5\t물\t\t\n",
      "19.9816448017\t\t3\t487\t2\tWyss\t\t\n",
      "19.9816448017\t\t3\t487\t2\t독지가\t\t\n",
      "w2 = 2015081703679.txt\n",
      "185.508959361\t\t20\t485\t17\t키스\t\t\n",
      "29.691642633\t\t16\t485\t4\t학습\t\t\n",
      "19.9980842471\t\t3\t485\t2\t미안\t\t\n",
      "18.2771946871\t\t4\t485\t2\t중동\t\t\n",
      "15.2585202125\t\t91\t485\t4\t%\t\t\n",
      "13.4277273673\t\t11\t485\t2\t본능\t\t\n",
      "12.3911439666\t\t14\t485\t2\t가설\t\t\n",
      "11.9059831911\t\t1\t485\t1\t히잡으\t\t\n",
      "11.9059831911\t\t1\t485\t1\t회지\t\t\n",
      "11.9059831911\t\t1\t485\t1\t전율\t\t\n",
      "w2 = 2015101203682.txt\n",
      "104.256226455\t\t19\t505\t11\t생일\t\t\n",
      "43.4999249069\t\t25\t505\t6\t사망\t\t\n",
      "32.6517771151\t\t58\t505\t6\t높\t\t\n",
      "29.9627962031\t\t15\t505\t4\t확률\t\t\n",
      "27.1868876873\t\t91\t505\t6\t%\t\t\n",
      "25.2930756395\t\t170\t505\t7\t대\t\t\n",
      "23.6503282288\t\t2\t505\t2\t평일\t\t\n",
      "19.8366609362\t\t3\t505\t2\t장례\t\t\n",
      "18.1159862185\t\t4\t505\t2\t두드러지\t\t\n",
      "12.891036387\t\t12\t505\t2\t심장\t\t\n",
      "w2 = 2015082403196.txt\n",
      "37.8380075209\t\t72\t482\t7\t교육\t\t\n",
      "29.0354028652\t\t5\t482\t3\t과목\t\t\n",
      "25.6929852855\t\t108\t482\t6\t환경\t\t\n",
      "22.7231208896\t\t36\t482\t4\t생태학\t\t\n",
      "21.2638198927\t\t14\t482\t3\t지속\t\t\n",
      "19.2637402754\t\t19\t482\t3\t발전\t\t\n",
      "17.1221807707\t\t5\t482\t2\t역량\t\t\n",
      "16.3898073902\t\t30\t482\t3\t복지\t\t\n",
      "16.3898073902\t\t30\t482\t3\t가능\t\t\n",
      "16.2192980716\t\t6\t482\t2\tIT\t\t\n",
      "w2 = 2015090703551.txt\n",
      "64.278487889\t\t7\t546\t6\t외교\t\t\n",
      "40.1487553399\t\t14\t546\t5\t지수\t\t\n",
      "36.1372512348\t\t72\t546\t7\t역사\t\t\n",
      "24.4514083346\t\t8\t546\t3\t균형\t\t\n",
      "23.338086043\t\t2\t546\t2\t견모\t\t\n",
      "22.8308505364\t\t10\t546\t3\t핀란드\t\t\n",
      "20.4836632478\t\t227\t546\t7\t·\t\t\n",
      "19.5248592493\t\t3\t546\t2\t욕\t\t\n",
      "15.0768931238\t\t33\t546\t3\t풀\t\t\n",
      "14.3758730259\t\t8\t546\t2\t축적\t\t\n",
      "w2 = 2015083103427.txt\n",
      "82.7484534408\t\t7\t506\t7\t경원선\t\t\n",
      "42.8433990069\t\t12\t506\t5\t복원\t\t\n",
      "41.950200931\t\t28\t506\t6\tDMZ\t\t\n",
      "40.0648977213\t\t15\t506\t5\t㎞\t\t\n",
      "35.4636229032\t\t3\t506\t3\t구간\t\t\n",
      "28.7443631527\t\t5\t506\t3\t고가\t\t\n",
      "23.2843360808\t\t10\t506\t3\t건설\t\t\n",
      "22.1158981216\t\t37\t506\t4\t평화\t\t\n",
      "19.8287587188\t\t3\t506\t2\t덩어리\t\t\n",
      "19.8287587188\t\t3\t506\t2\t금강산\t\t\n",
      "w2 = 2015091403800.txt\n",
      "60.2245570048\t\t685\t493\t20\t\"\t\t\n",
      "33.819572225\t\t54\t493\t6\t선생님\t\t\n",
      "32.4648608147\t\t30\t493\t5\t…\t\t\n",
      "23.7941873147\t\t31\t493\t4\t아기\t\t\n",
      "23.7465252498\t\t2\t493\t2\t눈사람\t\t\n",
      "23.7465252498\t\t2\t493\t2\t모금\t\t\n",
      "21.8740466352\t\t84\t493\t5\t태어나\t\t\n",
      "19.9327290489\t\t3\t493\t2\t쳐다보\t\t\n",
      "19.9327290489\t\t3\t493\t2\t1915\t\t\n",
      "19.4575985245\t\t272\t493\t7\t한\t\t\n"
     ]
    }
   ],
   "source": [
    "fileCount = 0\n",
    "\n",
    "for ratioDic in ratioList:\n",
    "\n",
    "    if fileCount in selectedindex:\n",
    "        sortRatioDic=sorted(ratioDic, key=ratioDic.get, reverse=True)\n",
    "\n",
    "        print ( 'w2 = ' + onlyfiles[fileCount] )\n",
    "        for x in range(0, 10):\n",
    "            print ( ratioDic[sortRatioDic[x]].__str__() + '\\t\\t' \\\n",
    "                   + word_count_all(data, sortRatioDic[x]).__str__() + '\\t' \\\n",
    "                   + sum(data[fileCount].values()).__str__() + '\\t' \\\n",
    "                   + data[fileCount][sortRatioDic[x]].__str__() + '\\t' \\\n",
    "                   + sortRatioDic[x] + '\\t\\t' \\\n",
    "#                    + onlyfiles[fileCount]\n",
    "                   )\n",
    "            \n",
    "    fileCount += 1"
   ]
  },
  {
   "cell_type": "code",
   "execution_count": null,
   "metadata": {
    "collapsed": true
   },
   "outputs": [],
   "source": []
  },
  {
   "cell_type": "code",
   "execution_count": 340,
   "metadata": {
    "collapsed": false
   },
   "outputs": [
    {
     "data": {
      "text/plain": [
       "335"
      ]
     },
     "execution_count": 340,
     "metadata": {},
     "output_type": "execute_result"
    }
   ],
   "source": [
    "len(onlyfiles)"
   ]
  },
  {
   "cell_type": "code",
   "execution_count": null,
   "metadata": {
    "collapsed": true
   },
   "outputs": [],
   "source": []
  },
  {
   "cell_type": "code",
   "execution_count": null,
   "metadata": {
    "collapsed": true
   },
   "outputs": [],
   "source": []
  },
  {
   "cell_type": "code",
   "execution_count": null,
   "metadata": {
    "collapsed": true
   },
   "outputs": [],
   "source": []
  }
 ],
 "metadata": {
  "kernelspec": {
   "display_name": "Python 2",
   "language": "python",
   "name": "python2"
  },
  "language_info": {
   "codemirror_mode": {
    "name": "ipython",
    "version": 2
   },
   "file_extension": ".py",
   "mimetype": "text/x-python",
   "name": "python",
   "nbconvert_exporter": "python",
   "pygments_lexer": "ipython2",
   "version": "2.7.6"
  }
 },
 "nbformat": 4,
 "nbformat_minor": 0
}

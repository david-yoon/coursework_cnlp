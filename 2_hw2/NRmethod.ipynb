{
 "cells": [
  {
   "cell_type": "code",
   "execution_count": 615,
   "metadata": {
    "collapsed": false
   },
   "outputs": [
    {
     "data": {
      "text/plain": [
       "'\\nCreated on 2016. 9. 25\\n\\n@author: dato\\n@desc: cnlp2 hw2 (NR method)\\n'"
      ]
     },
     "execution_count": 615,
     "metadata": {},
     "output_type": "execute_result"
    }
   ],
   "source": [
    "'''\n",
    "Created on 2016. 9. 25\n",
    "\n",
    "@author: dato\n",
    "@desc: cnlp2 hw2 (NR method)\n",
    "'''\n",
    "#-*- coding: utf-8 -*-\n"
   ]
  },
  {
   "cell_type": "markdown",
   "metadata": {},
   "source": [
    "# HW 02 - 1  Univariate Case"
   ]
  },
  {
   "cell_type": "code",
   "execution_count": 616,
   "metadata": {
    "collapsed": false
   },
   "outputs": [],
   "source": [
    "import numpy as np\n",
    "from __future__ import division"
   ]
  },
  {
   "cell_type": "code",
   "execution_count": 617,
   "metadata": {
    "collapsed": true
   },
   "outputs": [],
   "source": [
    "def f(x): \n",
    "    return np.log( 4*np.exp(-1*x) + 2 ) + x/3"
   ]
  },
  {
   "cell_type": "code",
   "execution_count": 618,
   "metadata": {
    "collapsed": true
   },
   "outputs": [],
   "source": [
    "def g(x):\n",
    "    return (np.exp(x) - 4) / ( 3*(np.exp(x) +2) )"
   ]
  },
  {
   "cell_type": "code",
   "execution_count": 619,
   "metadata": {
    "collapsed": true
   },
   "outputs": [],
   "source": [
    "def h(x):\n",
    "    return (2*np.exp(x)) / pow( (np.exp(x) +2), 2)"
   ]
  },
  {
   "cell_type": "code",
   "execution_count": 620,
   "metadata": {
    "collapsed": true
   },
   "outputs": [],
   "source": [
    "x = f(0)\n",
    "tol = 0.0001\n",
    "max_loop = 10000"
   ]
  },
  {
   "cell_type": "code",
   "execution_count": 621,
   "metadata": {
    "collapsed": false
   },
   "outputs": [],
   "source": [
    "for index in xrange(max_loop):\n",
    "    prev_x = x\n",
    "    x = x - ( g(x) / h(x) )\n",
    "    if ( abs(prev_x - x) ) < tol:\n",
    "        break"
   ]
  },
  {
   "cell_type": "code",
   "execution_count": 622,
   "metadata": {
    "collapsed": false
   },
   "outputs": [
    {
     "name": "stdout",
     "output_type": "stream",
     "text": [
      "3\n",
      "1.38629436112\n",
      "1.56071040904\n"
     ]
    }
   ],
   "source": [
    "print index\n",
    "print x\n",
    "print f(x)"
   ]
  },
  {
   "cell_type": "code",
   "execution_count": null,
   "metadata": {
    "collapsed": false
   },
   "outputs": [],
   "source": []
  },
  {
   "cell_type": "markdown",
   "metadata": {},
   "source": [
    "# plot the graph"
   ]
  },
  {
   "cell_type": "code",
   "execution_count": 623,
   "metadata": {
    "collapsed": true
   },
   "outputs": [],
   "source": [
    "import matplotlib.pyplot as plt"
   ]
  },
  {
   "cell_type": "code",
   "execution_count": 624,
   "metadata": {
    "collapsed": false
   },
   "outputs": [],
   "source": [
    "data = []\n",
    "scale = 10\n",
    "for index in xrange(-2*scale, 10*scale, 1):\n",
    "    data.append(f(index/scale) )"
   ]
  },
  {
   "cell_type": "code",
   "execution_count": 625,
   "metadata": {
    "collapsed": true
   },
   "outputs": [],
   "source": [
    "x_index =  [index/scale for index in xrange(-2*scale, 10*scale, 1)]"
   ]
  },
  {
   "cell_type": "code",
   "execution_count": 626,
   "metadata": {
    "collapsed": false
   },
   "outputs": [
    {
     "data": {
      "text/plain": [
       "<matplotlib.text.Text at 0x7fdce8b05cd0>"
      ]
     },
     "execution_count": 626,
     "metadata": {},
     "output_type": "execute_result"
    }
   ],
   "source": [
    "plt.plot(x_index, data)\n",
    "plt.ylabel('f(x)')\n",
    "plt.xlabel('x')"
   ]
  },
  {
   "cell_type": "code",
   "execution_count": 627,
   "metadata": {
    "collapsed": false
   },
   "outputs": [
    {
     "data": {
      "image/png": "[encoded data removed]",
      "text/plain": [
       "<matplotlib.figure.Figure at 0x7fdce8bee810>"
      ]
     },
     "metadata": {},
     "output_type": "display_data"
    }
   ],
   "source": [
    "plt.show()"
   ]
  },
  {
   "cell_type": "code",
   "execution_count": null,
   "metadata": {
    "collapsed": true
   },
   "outputs": [],
   "source": []
  },
  {
   "cell_type": "markdown",
   "metadata": {},
   "source": [
    "# HW 02 - 1  Multivariate Case"
   ]
  },
  {
   "cell_type": "code",
   "execution_count": 606,
   "metadata": {
    "collapsed": false
   },
   "outputs": [],
   "source": [
    "from numpy.linalg import pinv\n",
    "from numpy.linalg import inv\n",
    "from scipy.spatial import distance"
   ]
  },
  {
   "cell_type": "code",
   "execution_count": 607,
   "metadata": {
    "collapsed": true
   },
   "outputs": [],
   "source": [
    "def f(x):\n",
    "    return np.log( np.exp(-x[0]) + 2*np.exp(-x[1]) +2 )  + x[0]/3 + x[1]/2"
   ]
  },
  {
   "cell_type": "code",
   "execution_count": 608,
   "metadata": {
    "collapsed": false
   },
   "outputs": [],
   "source": [
    "def g(x):\n",
    "    dx = 1/3 - ( np.exp(-x[0]) ) / ( np.exp(-x[0]) + 2*np.exp(-x[1]) +2 )\n",
    "    dy = 1/2 - ( 2*np.exp(-x[1]) ) / ( np.exp(-x[0]) + 2*np.exp(-x[1]) +2 )\n",
    "    return np.asarray([dx, dy])    "
   ]
  },
  {
   "cell_type": "code",
   "execution_count": 609,
   "metadata": {
    "collapsed": false
   },
   "outputs": [],
   "source": [
    "def h(x):\n",
    "    dxdx = 2*( np.exp(x[1])  +1 ) * np.exp( x[0] + x[1] ) / pow( ( 2*np.exp(x[0] + x[1]) + 2*np.exp(x[0]) + np.exp(x[1])  ), 2 )\n",
    "    dxdy = -2*np.exp(x[0] + x[1] ) / pow( ( 2*np.exp(x[0] + x[1])  + 2*np.exp(x[0]) +np.exp(x[1]) ), 2 )\n",
    "    dydx = -2*np.exp(x[0] + x[1] ) / pow( ( 2*np.exp(x[0] + x[1])  + 2*np.exp(x[0]) +np.exp(x[1]) ), 2 )\n",
    "    dydy = 2*( np.exp(x[0])  +1 ) * np.exp( x[0] + x[1] ) / pow( ( 2*np.exp(x[0] + x[1]) + 2*np.exp(x[0]) + np.exp(x[1])  ), 2 )\n",
    "    return np.asarray([[dxdx, dxdy], [dydx, dydy]])"
   ]
  },
  {
   "cell_type": "code",
   "execution_count": 610,
   "metadata": {
    "collapsed": true
   },
   "outputs": [],
   "source": [
    "x = np.asarray([0, 0])\n",
    "tol = 0.0001\n",
    "max_loop = 1000"
   ]
  },
  {
   "cell_type": "code",
   "execution_count": 611,
   "metadata": {
    "collapsed": false
   },
   "outputs": [],
   "source": [
    "for index in xrange(max_loop):\n",
    "    \n",
    "    prev_x = x\n",
    "    x = x - np.dot( pinv(h(x)), g(x) )\n",
    "    \n",
    "    if ( distance.euclidean(prev_x, x) ) < tol:\n",
    "        break   "
   ]
  },
  {
   "cell_type": "code",
   "execution_count": 614,
   "metadata": {
    "collapsed": false
   },
   "outputs": [
    {
     "name": "stdout",
     "output_type": "stream",
     "text": [
      "[-1.38630902 -1.09863183]\n",
      "1.4735023851\n"
     ]
    }
   ],
   "source": [
    "index\n",
    "print x\n",
    "print f(x)"
   ]
  }
 ],
 "metadata": {
  "kernelspec": {
   "display_name": "Python 2",
   "language": "python",
   "name": "python2"
  },
  "language_info": {
   "codemirror_mode": {
    "name": "ipython",
    "version": 2
   },
   "file_extension": ".py",
   "mimetype": "text/x-python",
   "name": "python",
   "nbconvert_exporter": "python",
   "pygments_lexer": "ipython2",
   "version": "2.7.12"
  }
 },
 "nbformat": 4,
 "nbformat_minor": 1
}

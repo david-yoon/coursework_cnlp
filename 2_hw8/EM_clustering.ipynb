{
 "cells": [
  {
   "cell_type": "code",
   "execution_count": 180,
   "metadata": {
    "collapsed": false
   },
   "outputs": [
    {
     "data": {
      "text/plain": [
       "'\\nCreated on 2016. 12. 10\\n\\n@author: dato\\n@desc: cnlp2 hw8 (EM clustering)\\n'"
      ]
     },
     "execution_count": 180,
     "metadata": {},
     "output_type": "execute_result"
    }
   ],
   "source": [
    "'''\n",
    "Created on 2016. 12. 10\n",
    "\n",
    "@author: dato\n",
    "@desc: cnlp2 hw8 (EM clustering)\n",
    "'''\n",
    "#-*- coding: utf-8 -*-"
   ]
  },
  {
   "cell_type": "code",
   "execution_count": 181,
   "metadata": {
    "collapsed": true
   },
   "outputs": [],
   "source": [
    "import numpy as np\n",
    "import math"
   ]
  },
  {
   "cell_type": "code",
   "execution_count": 16,
   "metadata": {
    "collapsed": true
   },
   "outputs": [],
   "source": [
    "f = open(\"emcluster_sample.txt\")\n",
    "data = f.readlines()"
   ]
  },
  {
   "cell_type": "code",
   "execution_count": 17,
   "metadata": {
    "collapsed": false
   },
   "outputs": [],
   "source": [
    "# probability table for each class\n",
    "prob_1 = {}\n",
    "prob_2 = {}"
   ]
  },
  {
   "cell_type": "code",
   "execution_count": 18,
   "metadata": {
    "collapsed": true
   },
   "outputs": [],
   "source": [
    "def dic_log_norm(dic):\n",
    "    new_dic = {}\n",
    "    s = sum(dic.values())    \n",
    "    for item in dic:        \n",
    "        new_dic[item] = math.log(dic[item] / float(s))\n",
    "    return new_dic"
   ]
  },
  {
   "cell_type": "code",
   "execution_count": 43,
   "metadata": {
    "collapsed": false
   },
   "outputs": [],
   "source": [
    "def cal_prob_table(data, label):\n",
    "\n",
    "    prob_1 = {}\n",
    "    prob_2 = {}\n",
    "    \n",
    "    for line in data:\n",
    "\n",
    "        line = line.strip().split(' ')\n",
    "        doc_id = int(line[0])\n",
    "        \n",
    "        if( prob_1.has_key( line[1]) ):\n",
    "                prob_1[ line[1] ] = prob_1[ line[1] ] + float(line[2]) * label[ doc_id -1 ]\n",
    "        else:\n",
    "                prob_1[ line[1] ] = float(line[2]) * label[ doc_id -1 ]\n",
    "\n",
    "        if( prob_2.has_key(line[1])):\n",
    "                prob_2[ line[1] ] = prob_2[ line[1] ] + float(line[2]) * (1 - label[ doc_id -1 ])\n",
    "        else:\n",
    "                prob_2[ line[1] ] = float(line[2]) * (1 - label[ doc_id -1 ])\n",
    "    \n",
    "    return dic_log_norm(prob_1), dic_log_norm(prob_2)"
   ]
  },
  {
   "cell_type": "code",
   "execution_count": 119,
   "metadata": {
    "collapsed": true
   },
   "outputs": [],
   "source": [
    "def update_label(data, prob_1, prob_2, prior_1, prior_2):\n",
    "\n",
    "    cnt = 0\n",
    "    \n",
    "    sum1 = np.zeros(980, dtype=np.float64)\n",
    "    sum2 = np.zeros(980, dtype=np.float64)\n",
    "    label = np.zeros(980, dtype=np.float64)\n",
    "    \n",
    "    for line in data:\n",
    "        \n",
    "        line = line.strip().split(' ')\n",
    "        doc_id = int(line[0])\n",
    "\n",
    "        # add-up log P(v/c)\n",
    "        sum1[doc_id -1] = sum1[doc_id -1] + prob_1[ line[1] ] * float(line[2])\n",
    "        sum2[doc_id -1] = sum2[doc_id -1] + prob_2[ line[1] ] * float(line[2])\n",
    "\n",
    "    # add log P(c)\n",
    "    for i in range(doc_id):\n",
    "        final1 = sum1[i -1] + prior_1\n",
    "        final2 = sum2[i -1] + prior_2    \n",
    "        label[i - 1] = final1 / float(final1 + final2)\n",
    "\n",
    "    return label"
   ]
  },
  {
   "cell_type": "code",
   "execution_count": 120,
   "metadata": {
    "collapsed": true
   },
   "outputs": [],
   "source": [
    "def cal_ll(data, prob_1, prob_2, prior_1, prior_2):\n",
    "\n",
    "    cnt = 0\n",
    "    sum1 = 0\n",
    "    sum2 = 0\n",
    "    index = 1\n",
    "    final1 = 0\n",
    "    final2 = 0\n",
    "    \n",
    "    ll = 0\n",
    "    \n",
    "    label = np.ndarray(980, dtype=np.float64)\n",
    "    \n",
    "    for line in data:\n",
    "\n",
    "        line = line.strip().split(' ')\n",
    "\n",
    "        # same doc_id\n",
    "        # add-up log P(v/c)\n",
    "        if ( int(line[0]) == index ):\n",
    "            sum1 = sum1 + prob_1[ line[1] ] * float(line[2])\n",
    "            sum2 = sum2 + prob_2[ line[1] ] * float(line[2])\n",
    "\n",
    "        # doc_id is changed\n",
    "        else:\n",
    "\n",
    "            # add log P(c)\n",
    "            final1 = sum1 + prior_1\n",
    "            final2 = sum2 + prior_2\n",
    "            \n",
    "            ll = (final1 * 0.5) + (final2 * 0.5)\n",
    "                        \n",
    "            sum1 = 0\n",
    "            sum2 = 0\n",
    "            sum1 = sum1 + prob_1[ line[1] ] * float(line[2])\n",
    "            sum2 = sum2 + prob_2[ line[1] ] * float(line[2])\n",
    "            \n",
    "            index = index + 1\n",
    "\n",
    "    return ll"
   ]
  },
  {
   "cell_type": "code",
   "execution_count": null,
   "metadata": {
    "collapsed": true
   },
   "outputs": [],
   "source": []
  },
  {
   "cell_type": "code",
   "execution_count": 172,
   "metadata": {
    "collapsed": false
   },
   "outputs": [],
   "source": [
    "prob_1['1'] = math.log(0.25)\n",
    "prob_1['2'] = math.log(0.25)\n",
    "prob_1['3'] = math.log(0.25)\n",
    "prob_1['4'] = math.log(0.25)\n",
    "\n",
    "prob_2['1'] = math.log(0.25)\n",
    "prob_2['2'] = math.log(0.25)\n",
    "prob_2['3'] = math.log(0.25)\n",
    "prob_2['4'] = math.log(0.25)\n",
    "\n",
    "prior_1 = math.log(0.6)\n",
    "prior_2 = math.log(0.4)\n",
    "\n",
    "ll = np.zeros(500, dtype=np.float64)\n",
    "h = np.zeros(500, dtype=np.float64)"
   ]
  },
  {
   "cell_type": "code",
   "execution_count": 173,
   "metadata": {
    "collapsed": false
   },
   "outputs": [],
   "source": [
    "for loop_index in range (500):\n",
    "\n",
    "    # E step    \n",
    "    label = update_label(data, prob_1, prob_2, prior_1, prior_2)\n",
    "    h[loop_index -1] = np.mean(label)    \n",
    "    \n",
    "    # M step\n",
    "    prob_1_new, prob_2_new = cal_prob_table(data, label)    \n",
    "    prior_1  = sum(label) / len(label)\n",
    "    prior_2 = 1 - prior_1\n",
    "    \n",
    "    ll[loop_index -1] = cal_ll(data, prob_1_new, prob_2_new, prior_1, prior_2)\n",
    "    \n",
    "    cond_sum = 0\n",
    "    for i in range(4):\n",
    "        cond_sum = cond_sum + 1 - prob_1[str(i+1)] / prob_1_new[str(i+1)] \n",
    "            \n",
    "    if ( abs(cond_sum) < 1e-5 ):\n",
    "        break\n",
    "        \n",
    "    else :\n",
    "        prob_1 = prob_1_new\n",
    "        prob_2 = prob_2_new       "
   ]
  },
  {
   "cell_type": "code",
   "execution_count": 174,
   "metadata": {
    "collapsed": false
   },
   "outputs": [
    {
     "name": "stdout",
     "output_type": "stream",
     "text": [
      "5\n"
     ]
    }
   ],
   "source": [
    "print loop_index"
   ]
  },
  {
   "cell_type": "code",
   "execution_count": 175,
   "metadata": {
    "collapsed": false
   },
   "outputs": [
    {
     "name": "stdout",
     "output_type": "stream",
     "text": [
      "0.500298111485\n",
      "0.499701888515\n",
      "{'1': -1.3164000545081527, '3': -1.3056135886078815, '2': -1.3224928862875682, '4': -1.6377093018372164}\n",
      "{'1': -1.3185593589247135, '3': -1.3015482917100176, '2': -1.32450264353169, '4': -1.6376613581997104}\n"
     ]
    }
   ],
   "source": [
    "# log P(c)\n",
    "\n",
    "print prior_1\n",
    "print prior_2\n",
    "print prob_1\n",
    "print prob_2"
   ]
  },
  {
   "cell_type": "code",
   "execution_count": 176,
   "metadata": {
    "collapsed": false
   },
   "outputs": [
    {
     "name": "stdout",
     "output_type": "stream",
     "text": [
      "0.268098707555\n",
      "0.266470193399\n",
      "0.271006197704\n",
      "0.194424901342\n",
      "0.2675204254\n",
      "0.26593519079\n",
      "0.272110160807\n",
      "0.194434223002\n"
     ]
    }
   ],
   "source": [
    "# log P(v|c)\n",
    "\n",
    "print math.exp(prob_1['1'])\n",
    "print math.exp(prob_1['2'])\n",
    "print math.exp(prob_1['3'])\n",
    "print math.exp(prob_1['4'])\n",
    "\n",
    "print math.exp(prob_2['1'])\n",
    "print math.exp(prob_2['2'])\n",
    "print math.exp(prob_2['3'])\n",
    "print math.exp(prob_2['4'])"
   ]
  },
  {
   "cell_type": "code",
   "execution_count": null,
   "metadata": {
    "collapsed": true
   },
   "outputs": [],
   "source": []
  },
  {
   "cell_type": "code",
   "execution_count": 177,
   "metadata": {
    "collapsed": false
   },
   "outputs": [
    {
     "name": "stdout",
     "output_type": "stream",
     "text": [
      "[ 0.49981446  0.50039636  0.50055607  0.50029989  0.50167441]\n"
     ]
    }
   ],
   "source": [
    "# responsibility P(c|d)\n",
    "\n",
    "print label[:loop_index]"
   ]
  },
  {
   "cell_type": "code",
   "execution_count": null,
   "metadata": {
    "collapsed": true
   },
   "outputs": [],
   "source": []
  },
  {
   "cell_type": "code",
   "execution_count": 178,
   "metadata": {
    "collapsed": false
   },
   "outputs": [
    {
     "name": "stdout",
     "output_type": "stream",
     "text": [
      "[ 0.81746267  0.81747198  0.81747797  0.81747971  0.81748005]\n"
     ]
    }
   ],
   "source": [
    "# loglikelihood\n",
    "\n",
    "print ll[:loop_index]*-1"
   ]
  }
 ],
 "metadata": {
  "kernelspec": {
   "display_name": "Python 2",
   "language": "python",
   "name": "python2"
  },
  "language_info": {
   "codemirror_mode": {
    "name": "ipython",
    "version": 2
   },
   "file_extension": ".py",
   "mimetype": "text/x-python",
   "name": "python",
   "nbconvert_exporter": "python",
   "pygments_lexer": "ipython2",
   "version": "2.7.12"
  }
 },
 "nbformat": 4,
 "nbformat_minor": 1
}

{
 "cells": [
  {
   "cell_type": "code",
   "execution_count": 198,
   "metadata": {
    "collapsed": false
   },
   "outputs": [],
   "source": [
    "'''\n",
    "Created on 2016. 12. 14\n",
    "\n",
    "@author: dato\n",
    "@desc: cnlp2 hw9 (HMM)\n",
    "'''\n",
    "#-*- coding: utf-8 -*-\n",
    "\n",
    "import io\n",
    "import numpy as np\n",
    "import scipy as sp\n",
    "from scipy import stats\n",
    "import math"
   ]
  },
  {
   "cell_type": "markdown",
   "metadata": {},
   "source": [
    "# Excercise 1 Sample Generation"
   ]
  },
  {
   "cell_type": "code",
   "execution_count": 12,
   "metadata": {
    "collapsed": true
   },
   "outputs": [],
   "source": [
    "def sample_generation(N, pi, A, B):\n",
    "    \n",
    "    z = []   # state\n",
    "    y = []   # symbol\n",
    "    ll = []   # log likelihood\n",
    "        \n",
    "    state = pi\n",
    "    symbol = 1\n",
    "    \n",
    "    state_index = []\n",
    "    symbol_index = []\n",
    "    \n",
    "    for i in range(A.shape[1]):\n",
    "        state_index.append(i)\n",
    "    \n",
    "    for i in range(B.shape[1]):\n",
    "        symbol_index.append(i)\n",
    "        \n",
    "    for i in range (N):\n",
    "        \n",
    "        # calculate state prob.\n",
    "        state = state.dot(A)\n",
    "        # select state according to the prob.\n",
    "        state_select = stats.rv_discrete(name='custm', values=(state_index, state)).rvs(size=1)\n",
    "        \n",
    "        symbol = B[state_select][0]\n",
    "        # select emission according to the prob.\n",
    "        symbol_select = stats.rv_discrete(name='custm', values=(symbol_index, symbol)).rvs(size=1)\n",
    "        \n",
    "        z.append( np.asscalar( state_select ) )\n",
    "        y.append( np.asscalar( symbol_select ) )         \n",
    "        ll.append( np.log(  np.asscalar(state[state_select] * symbol[symbol_select])  ) )\n",
    "        \n",
    "    return z, y, ll"
   ]
  },
  {
   "cell_type": "code",
   "execution_count": 13,
   "metadata": {
    "collapsed": true
   },
   "outputs": [],
   "source": [
    "# initial state\n",
    "pi = np.array([0.5,0.5])\n",
    "\n",
    "#  state transition matrix\n",
    "A = np.array([[0.7, 0.3],[0.9, 0.1]])\n",
    "\n",
    "# emission prob matrix\n",
    "B = np.array([[0.5,0.5],[0.2,0.8]])"
   ]
  },
  {
   "cell_type": "code",
   "execution_count": 16,
   "metadata": {
    "collapsed": false
   },
   "outputs": [
    {
     "name": "stdout",
     "output_type": "stream",
     "text": [
      "sequence of state: [1, 1, 0, 0, 0]\n",
      "sequence of symbols: [0, 1, 1, 1, 1]\n",
      "log likelihood: [-3.2188758248682006, -1.5702171992808189, -0.97816613559224252, -0.98136272861786988, -0.98072259203354395]\n"
     ]
    }
   ],
   "source": [
    "z, y, ll = sample_generation(5, pi, A, B)\n",
    "print 'sequence of state: ' + str(z)\n",
    "print 'sequence of symbols: ' + str(y)\n",
    "print 'log likelihood: ' + str(ll)"
   ]
  },
  {
   "cell_type": "markdown",
   "metadata": {},
   "source": [
    "# Excercise 2 Forward and Backward"
   ]
  },
  {
   "cell_type": "code",
   "execution_count": 190,
   "metadata": {
    "collapsed": true
   },
   "outputs": [],
   "source": [
    "def forward(y, A, B, pi):    \n",
    "    N = len(y)\n",
    "\n",
    "    a = np.ndarray(shape=(N,len(pi)), dtype=float)\n",
    "    log_a = np.ndarray(shape=(N,len(pi)), dtype=float)\n",
    "    \n",
    "    # initial value\n",
    "    for k in range(len(pi)):\n",
    "        a[0][k] = pi[k]*B[k][y[0]]\n",
    "        log_a[0][k] = np.log( pi[k] ) + np.log( B[k][y[0]] )\n",
    "\n",
    "    # loop\n",
    "    # n : step, k : state (0, 1, 2, ...)\n",
    "    for n in range(1, N):\n",
    "\n",
    "        for k in range(len(pi)):\n",
    "\n",
    "            #inner loop\n",
    "            for j in range(len(pi)):\n",
    "                a[n][k] += ( a[n-1][j] * A[j][k] )\n",
    "                log_a[n][k] += ( a[n-1][j] * A[j][k] )\n",
    "    \n",
    "            a[n][k] *= B[k][y[n]]        \n",
    "            log_a[n][k] = np.log( log_a[n][k] )\n",
    "            log_a[n][k] += np.log(B[k][y[n]])\n",
    "            \n",
    "    return a, log_a"
   ]
  },
  {
   "cell_type": "code",
   "execution_count": 191,
   "metadata": {
    "collapsed": false
   },
   "outputs": [],
   "source": [
    "def backward(y, A, B, pi):   \n",
    "\n",
    "    N = len(y) -1\n",
    "    eval = 0\n",
    "\n",
    "    b = np.ndarray(shape=(N+1,len(pi)), dtype=float)\n",
    "    log_b = np.ndarray(shape=(N+1,len(pi)), dtype=float)\n",
    "\n",
    "    # initial value\n",
    "    for k in range(len(pi)):\n",
    "        b[N][k] = 1\n",
    "        log_b[N][k] = np.log(1)\n",
    "\n",
    "    # # loop\n",
    "    # # n : step, k : state (0, 1, 2, ...)\n",
    "    for n in reversed(range(N)):\n",
    "\n",
    "        for k in range(len(pi)):\n",
    "\n",
    "            #inner loop\n",
    "            for j in range(len(pi)):\n",
    "                b[n][k] += A[k][j] * B[j][y[n+1]] * b[n+1][j]\n",
    "            \n",
    "            log_b[n][k] = np.log( b[n][k] )\n",
    "\n",
    "    return b, log_b"
   ]
  },
  {
   "cell_type": "code",
   "execution_count": 192,
   "metadata": {
    "collapsed": false
   },
   "outputs": [],
   "source": [
    "# log sum_i (a_i)\n",
    "# data_i = log(a_i)\n",
    "\n",
    "def log_addition( data ) :\n",
    "    result = 0\n",
    "    \n",
    "    for i in range (len (data)) :\n",
    "        result += np.exp( data[i] -  max(data) )\n",
    "    \n",
    "    result = np.log( result ) \n",
    "    result += max (data)\n",
    "    \n",
    "    return result"
   ]
  },
  {
   "cell_type": "code",
   "execution_count": 193,
   "metadata": {
    "collapsed": true
   },
   "outputs": [],
   "source": [
    "def forward_backward(y, log_a, log_b, pi):\n",
    "    \n",
    "    log_a_b = []\n",
    "    \n",
    "    for i in range (len(pi)) :\n",
    "        log_a_b.append( log_a[len(y)-1][i] + log_b[ len(y) -1][i] )\n",
    "    \n",
    "    return log_addition(log_a_b)"
   ]
  },
  {
   "cell_type": "code",
   "execution_count": 194,
   "metadata": {
    "collapsed": true
   },
   "outputs": [],
   "source": [
    "# initial state\n",
    "pi = np.array([0.5,0.5])\n",
    "\n",
    "#  state transition matrix\n",
    "A = np.array([[0.7, 0.3],[0.9, 0.1]])\n",
    "\n",
    "# emission prob matrix\n",
    "B = np.array([[0.5,0.5],[0.2,0.8]])\n",
    "\n",
    "# symbol\n",
    "y = [0, 0, 1, 0, 0, 1, 0, 0, 0, 1]"
   ]
  },
  {
   "cell_type": "code",
   "execution_count": 195,
   "metadata": {
    "collapsed": false
   },
   "outputs": [
    {
     "name": "stdout",
     "output_type": "stream",
     "text": [
      "\n",
      "[[-1.38629436 -2.30258509]\n",
      " [-2.02117263 -4.07454193]\n",
      " [-2.91830838 -3.40641095]\n",
      " [-3.38638513 -5.54557432]\n",
      " [-4.29784156 -6.16204459]\n",
      " [-5.16591642 -5.67457547]\n",
      " [-5.64300813 -7.79664416]\n",
      " [-6.55374525 -8.41846131]\n",
      " [-7.42190535 -9.31679872]\n",
      " [-8.29501576 -8.8001254 ]]\n"
     ]
    }
   ],
   "source": [
    "a, log_a = forward(y, A, B, pi)\n",
    "print '\\n' + str(log_a)"
   ]
  },
  {
   "cell_type": "code",
   "execution_count": 196,
   "metadata": {
    "collapsed": false
   },
   "outputs": [
    {
     "name": "stdout",
     "output_type": "stream",
     "text": [
      "\n",
      "[[-6.81830361 -6.66811541]\n",
      " [-5.90756475 -6.04631115]\n",
      " [-5.43049475 -5.31049533]\n",
      " [-4.56234919 -4.41207475]\n",
      " [-3.65148941 -3.79116742]\n",
      " [-3.17592961 -3.05247005]\n",
      " [-2.30287514 -2.18252022]\n",
      " [-1.43422489 -1.28699216]\n",
      " [-0.52763274 -0.63487827]\n",
      " [ 0.          0.        ]]\n"
     ]
    }
   ],
   "source": [
    "b, log_b = backward(y, A, B, pi)\n",
    "print '\\n' + str(log_b)"
   ]
  },
  {
   "cell_type": "code",
   "execution_count": 197,
   "metadata": {
    "collapsed": false
   },
   "outputs": [
    {
     "name": "stdout",
     "output_type": "stream",
     "text": [
      "-7.82286480538\n"
     ]
    }
   ],
   "source": [
    "ll = forward_backward(y, log_a, log_b, pi)\n",
    "print ll"
   ]
  },
  {
   "cell_type": "markdown",
   "metadata": {},
   "source": [
    "# Excercise 3 Gamma"
   ]
  },
  {
   "cell_type": "code",
   "execution_count": 201,
   "metadata": {
    "collapsed": true
   },
   "outputs": [],
   "source": [
    "def decoding(y, log_a, log_b):\n",
    "\n",
    "    N = len(y) -1\n",
    "    eval = 0\n",
    "\n",
    "    r = np.ndarray(shape=(N,len(pi)), dtype=float)\n",
    "\n",
    "    for n in range (len(r)):\n",
    "\n",
    "        for k in range(len(pi)):\n",
    "\n",
    "            r[n][k] = log_a[n][k] * log_b[n][k]\n",
    "        \n",
    "        r[n] = r[n] / sum(r[n])\n",
    "\n",
    "    return r"
   ]
  },
  {
   "cell_type": "code",
   "execution_count": 202,
   "metadata": {
    "collapsed": true
   },
   "outputs": [],
   "source": [
    "r = decoding(y, log_a, log_b)"
   ]
  },
  {
   "cell_type": "code",
   "execution_count": 203,
   "metadata": {
    "collapsed": false
   },
   "outputs": [
    {
     "name": "stdout",
     "output_type": "stream",
     "text": [
      "sequence probability (r_nk) \n",
      "[[ 0.38104272  0.61895728]\n",
      " [ 0.32644786  0.67355214]\n",
      " [ 0.46697068  0.53302932]\n",
      " [ 0.38704642  0.61295358]\n",
      " [ 0.40183272  0.59816728]\n",
      " [ 0.48643733  0.51356267]\n",
      " [ 0.43300579  0.56699421]\n",
      " [ 0.46454121  0.53545879]\n",
      " [ 0.39833293  0.60166707]]\n"
     ]
    }
   ],
   "source": [
    "print 'sequence probability (r_nk) \\n' + str(r)"
   ]
  }
 ],
 "metadata": {
  "kernelspec": {
   "display_name": "Python 2",
   "language": "python",
   "name": "python2"
  },
  "language_info": {
   "codemirror_mode": {
    "name": "ipython",
    "version": 2
   },
   "file_extension": ".py",
   "mimetype": "text/x-python",
   "name": "python",
   "nbconvert_exporter": "python",
   "pygments_lexer": "ipython2",
   "version": "2.7.12"
  }
 },
 "nbformat": 4,
 "nbformat_minor": 1
}

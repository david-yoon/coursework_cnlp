{
 "cells": [
  {
   "cell_type": "code",
   "execution_count": 124,
   "metadata": {
    "collapsed": true
   },
   "outputs": [],
   "source": [
    "'''\n",
    "Created on 2016. 6. 14\n",
    "\n",
    "@author: dato\n",
    "@desc: cnlp hw10 (Maximum Entropy Method)\n",
    "'''\n",
    "#-*- coding: utf-8 -*-\n",
    "\n",
    "import io\n",
    "import numpy as np"
   ]
  },
  {
   "cell_type": "markdown",
   "metadata": {},
   "source": [
    "# prob-1"
   ]
  },
  {
   "cell_type": "code",
   "execution_count": 120,
   "metadata": {
    "collapsed": true
   },
   "outputs": [],
   "source": [
    "def cal_p(f1, f2, f3, f4):    \n",
    "    return np.exp( -(1*f1 + (-0.5)*f2 + (-1)*f3 + 2*f4 ) )"
   ]
  },
  {
   "cell_type": "code",
   "execution_count": 121,
   "metadata": {
    "collapsed": false
   },
   "outputs": [],
   "source": [
    "p = []\n",
    "p.append(cal_p(1, 1, 0, 1))\n",
    "p.append(cal_p(0, 1, 1, 1))\n",
    "p.append(cal_p(1, 0, 1, 0))\n",
    "p.append(cal_p(1, 1, 0, 0))\n",
    "p.append(cal_p(1, 0, 0, 0))\n",
    "p.append(cal_p(1, 1, 1, 1))"
   ]
  },
  {
   "cell_type": "code",
   "execution_count": 122,
   "metadata": {
    "collapsed": false
   },
   "outputs": [
    {
     "name": "stdout",
     "output_type": "stream",
     "text": [
      "[0.0820849986238988, 0.60653065971263342, 1.0, 0.60653065971263342, 0.36787944117144233, 0.22313016014842982]\n"
     ]
    }
   ],
   "source": [
    "print p"
   ]
  },
  {
   "cell_type": "code",
   "execution_count": 123,
   "metadata": {
    "collapsed": false
   },
   "outputs": [
    {
     "name": "stdout",
     "output_type": "stream",
     "text": [
      "[ 0.02844094  0.21015173  0.34648163  0.21015173  0.12746347  0.0773105 ]\n",
      "1.0\n"
     ]
    }
   ],
   "source": [
    "p = p / sum(p)\n",
    "print p\n",
    "print sum(p)"
   ]
  },
  {
   "cell_type": "code",
   "execution_count": null,
   "metadata": {
    "collapsed": true
   },
   "outputs": [],
   "source": []
  },
  {
   "cell_type": "markdown",
   "metadata": {},
   "source": [
    "# prob-2"
   ]
  },
  {
   "cell_type": "code",
   "execution_count": null,
   "metadata": {
    "collapsed": true
   },
   "outputs": [],
   "source": []
  },
  {
   "cell_type": "code",
   "execution_count": null,
   "metadata": {
    "collapsed": true
   },
   "outputs": [],
   "source": []
  },
  {
   "cell_type": "code",
   "execution_count": null,
   "metadata": {
    "collapsed": true
   },
   "outputs": [],
   "source": []
  }
 ],
 "metadata": {
  "kernelspec": {
   "display_name": "Python 2",
   "language": "python",
   "name": "python2"
  },
  "language_info": {
   "codemirror_mode": {
    "name": "ipython",
    "version": 2
   },
   "file_extension": ".py",
   "mimetype": "text/x-python",
   "name": "python",
   "nbconvert_exporter": "python",
   "pygments_lexer": "ipython2",
   "version": "2.7.11"
  }
 },
 "nbformat": 4,
 "nbformat_minor": 0
}

{
 "cells": [
  {
   "cell_type": "code",
   "execution_count": 1,
   "metadata": {
    "collapsed": false
   },
   "outputs": [],
   "source": [
    "'''\n",
    "Created on 2016. 5. 13\n",
    "\n",
    "@author: dato\n",
    "@desc: cnlp hw9 (quasi-newton method) - BFGS equation 2\n",
    "'''\n",
    "#-*- coding: utf-8 -*-\n",
    "\n",
    "import io\n",
    "import numpy as np\n",
    "from scipy.misc import derivative\n",
    "from numpy.linalg import inv\n",
    "from numpy.linalg import pinv"
   ]
  },
  {
   "cell_type": "code",
   "execution_count": 2,
   "metadata": {
    "collapsed": false
   },
   "outputs": [],
   "source": [
    "def f(x):\n",
    "    return np.log(2*np.exp(-x[0][0]) + 2 * np.exp(-x[0][0] - x[0][1]) + 2) + x[0][0] * 32/36 + x[0][1] * 24/36"
   ]
  },
  {
   "cell_type": "code",
   "execution_count": 3,
   "metadata": {
    "collapsed": true
   },
   "outputs": [],
   "source": [
    "# def g(x):\n",
    "#     x1=x[0][0]\n",
    "#     x2=x[0][1]\n",
    "    \n",
    "#     x_dx1= -( -8*(np.exp(x1+x2)) + 2*np.exp(x2) +1 ) / ( 9*(np.exp(x1+x2) + np.exp(x2) +1) )\n",
    "#     x_dx2= ( 2*(np.exp(x1+x2)) + 2*np.exp(x2) -1 ) / ( 3*(np.exp(x1+x2) + np.exp(x2) +1) )\n",
    "    \n",
    "#     return np.asarray([[x_dx1, x_dx2]])"
   ]
  },
  {
   "cell_type": "code",
   "execution_count": 4,
   "metadata": {
    "collapsed": true
   },
   "outputs": [],
   "source": [
    "def g(x):\n",
    "    x1=x[0][0]\n",
    "    x2=x[0][1]\n",
    "    \n",
    "    x_dx1= -( 0.111111*( -8*2.71828**(x1+x2) + 2.71828**(x2) +1 ) ) / ( 2.71828**(x1+x2) + 2.71828**(x2) +1 ) \n",
    "    x_dx2= ( 0.333333*( 2*2.71828**(x1+x2) + 2*2.71828**(x2) -1 ) ) / ( 2.71828**(x1+x2) + 2.71828**(x2) +1 ) \n",
    "    \n",
    "    return np.asarray([[x_dx1, x_dx2]])"
   ]
  },
  {
   "cell_type": "code",
   "execution_count": 5,
   "metadata": {
    "collapsed": true
   },
   "outputs": [],
   "source": [
    "def linesearch(x0, d, g):\n",
    "    a = 100\n",
    "    r = 0.5\n",
    "    b = 0.5\n",
    "    \n",
    "    c_tmp = -b*d.dot(g.transpose())\n",
    "    c = c_tmp[0][0]\n",
    "    \n",
    "    while True:\n",
    "\n",
    "        if f(x0) - f(x0 + a*d) >= a*c:\n",
    "            break\n",
    "        else:\n",
    "            a = r*a\n",
    "    \n",
    "    x1 = x0 + a*d\n",
    "    \n",
    "    return x1"
   ]
  },
  {
   "cell_type": "code",
   "execution_count": 6,
   "metadata": {
    "collapsed": true
   },
   "outputs": [],
   "source": [
    "def quasi_update_BFGS(C0, s1, y1):\n",
    "\n",
    "    I = np.identity(2)\n",
    "    p1 = pinv(np.transpose(y1).dot(s1))\n",
    "    c1 = (I - p1*s1*np.transpose(y1)) * C0 * (I - p1*y1*np.transpose(s1)) + p1*s1*np.transpose(s1)\n",
    "    \n",
    "    return c1   "
   ]
  },
  {
   "cell_type": "code",
   "execution_count": 7,
   "metadata": {
    "collapsed": false
   },
   "outputs": [],
   "source": [
    "def quasi_newton_bfgs(x0, f, g, C0, tol, maxiter):\n",
    "    \n",
    "    cnt = 0\n",
    "    \n",
    "    for i in range(maxiter):\n",
    "        \n",
    "        cnt = cnt +1\n",
    "    \n",
    "        g0 = g(x0)\n",
    "        d = -C0.dot(g0.transpose()).transpose()\n",
    "        \n",
    "        x1 = linesearch(x0, d, g0)\n",
    "        \n",
    "        if np.linalg.norm(x1-x0) < tol:\n",
    "            break\n",
    "        else:\n",
    "            g1 = g(x1)\n",
    "            s1 = x1 - x0\n",
    "            y1 = g1 - g0\n",
    "            C1 = quasi_update_BFGS(C0, s1, y1)\n",
    "\n",
    "            x0 = x1\n",
    "            C0 = C1\n",
    "            \n",
    "    return x0, cnt"
   ]
  },
  {
   "cell_type": "code",
   "execution_count": 8,
   "metadata": {
    "collapsed": false
   },
   "outputs": [
    {
     "name": "stdout",
     "output_type": "stream",
     "text": [
      "(array([[-0.68493192, -1.10544599]]), 27)\n"
     ]
    },
    {
     "name": "stderr",
     "output_type": "stream",
     "text": [
      "/home/datol/anaconda2/lib/python2.7/site-packages/ipykernel/__main__.py:2: RuntimeWarning: overflow encountered in exp\n",
      "  from ipykernel import kernelapp as app\n"
     ]
    }
   ],
   "source": [
    "x0 = np.asarray([[100,100]], dtype=np.dtype('d'))\n",
    "C0 = np.asarray([[2,3], [5,3]])\n",
    "tol = 0.01\n",
    "maxiter = 500\n",
    "\n",
    "print quasi_newton_bfgs(x0, f, g, C0, tol, maxiter)"
   ]
  },
  {
   "cell_type": "code",
   "execution_count": null,
   "metadata": {
    "collapsed": true
   },
   "outputs": [],
   "source": []
  }
 ],
 "metadata": {
  "kernelspec": {
   "display_name": "Python 2",
   "language": "python",
   "name": "python2"
  },
  "language_info": {
   "codemirror_mode": {
    "name": "ipython",
    "version": 2
   },
   "file_extension": ".py",
   "mimetype": "text/x-python",
   "name": "python",
   "nbconvert_exporter": "python",
   "pygments_lexer": "ipython2",
   "version": "2.7.11"
  }
 },
 "nbformat": 4,
 "nbformat_minor": 0
}

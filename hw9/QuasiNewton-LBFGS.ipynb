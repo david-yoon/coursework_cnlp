{
 "cells": [
  {
   "cell_type": "code",
   "execution_count": 1,
   "metadata": {
    "collapsed": false
   },
   "outputs": [],
   "source": [
    "'''\n",
    "Created on 2016. 5. 13\n",
    "\n",
    "@author: dato\n",
    "@desc: cnlp hw9 (quasi-newton method) - L-BFGS equation 1\n",
    "'''\n",
    "#-*- coding: utf-8 -*-\n",
    "\n",
    "import io\n",
    "import numpy as np\n",
    "from scipy.misc import derivative\n",
    "from numpy.linalg import inv\n",
    "from numpy.linalg import pinv"
   ]
  },
  {
   "cell_type": "code",
   "execution_count": 2,
   "metadata": {
    "collapsed": true
   },
   "outputs": [],
   "source": [
    "def f(x):\n",
    "    return np.log(4 * np.exp(-x) + 2) + x * 32/36"
   ]
  },
  {
   "cell_type": "code",
   "execution_count": 3,
   "metadata": {
    "collapsed": true
   },
   "outputs": [],
   "source": [
    "def g(x):\n",
    "    return (2*4*np.exp(x) -1) / (9*np.exp(x) +2)"
   ]
  },
  {
   "cell_type": "code",
   "execution_count": 4,
   "metadata": {
    "collapsed": false
   },
   "outputs": [],
   "source": [
    "def linesearch(x0, d, g):\n",
    "    a = 100\n",
    "    r = 0.5\n",
    "    b = 0.5\n",
    "    cnt = 0\n",
    "    \n",
    "    c = -b*np.transpose(d)*g\n",
    "\n",
    "    while True:\n",
    "\n",
    "        if f(x0) - f(x0 + a*d) >= a*c:\n",
    "            break\n",
    "        else:\n",
    "            a = r*a\n",
    "        \n",
    "        cnt = cnt + 1\n",
    "        if cnt > 1000:\n",
    "            print 'reach max loop'\n",
    "            break\n",
    "            \n",
    "    \n",
    "    x1 = x0 + a*d\n",
    "        \n",
    "    return x1"
   ]
  },
  {
   "cell_type": "code",
   "execution_count": 5,
   "metadata": {
    "collapsed": true
   },
   "outputs": [],
   "source": [
    "def cal_p(y, s, i):\n",
    "    if i < 0:\n",
    "        print \"i is below zero\"\n",
    "    return y[i]*s[i]"
   ]
  },
  {
   "cell_type": "code",
   "execution_count": 6,
   "metadata": {
    "collapsed": true
   },
   "outputs": [],
   "source": [
    "def quasi_update_L_BFGS(s, y, g):\n",
    "    \n",
    "    a ={}\n",
    "    m = 5\n",
    "    q = g\n",
    "    \n",
    "    for i in range(len(y)-1, len(y)-1-m, -1):\n",
    "        if i<0:\n",
    "            break\n",
    "        else:\n",
    "            a[i] = (-1) * cal_p(y, s, i)*s[i]*q\n",
    "            q = (-1) * (q - a[i]*y[i])\n",
    "    \n",
    "    q = cal_p(y, s, len(y)-1) * y[-1]*s[-1]*q\n",
    "    \n",
    "    for i in range(m-1, len(y)+1, 1):\n",
    "        b = (-1) * cal_p(y, s, i)*y[i]*q\n",
    "        q = (-1) * (q + (a[i] - b)*s[i])\n",
    "    \n",
    "    \n",
    "    return q    "
   ]
  },
  {
   "cell_type": "code",
   "execution_count": 7,
   "metadata": {
    "collapsed": false
   },
   "outputs": [],
   "source": [
    "def quasi_newton_l_bfgs(x0, f, g, tol, maxiter):\n",
    "    \n",
    "    cnt = 0\n",
    "    \n",
    "    s = []\n",
    "    y = []\n",
    "    \n",
    "    first = 1\n",
    "    \n",
    "    for i in range(maxiter):\n",
    "        cnt = cnt +1\n",
    "        \n",
    "        g0 = g(x0)\n",
    "        \n",
    "        if first == 1:\n",
    "            first = 0\n",
    "            d = -2*(g0.transpose()).transpose()\n",
    "        else:\n",
    "            d = -quasi_update_L_BFGS(s, y, g1)*(g0.transpose()).transpose()\n",
    "        \n",
    "        x1 = linesearch(x0, d, g0)\n",
    "\n",
    "        if abs(x1-x0) < tol:\n",
    "            break\n",
    "        else:\n",
    "            g1 = g(x1)\n",
    "            s.append(x1 - x0)\n",
    "            y.append(g1 - g0)\n",
    "            x0 = x1\n",
    "            \n",
    "    return x0, cnt"
   ]
  },
  {
   "cell_type": "code",
   "execution_count": 8,
   "metadata": {
    "collapsed": false
   },
   "outputs": [
    {
     "data": {
      "text/plain": [
       "(11.111111111111114, 2)"
      ]
     },
     "execution_count": 8,
     "metadata": {},
     "output_type": "execute_result"
    }
   ],
   "source": [
    "x0 = 100\n",
    "tol = 0.01\n",
    "maxiter = 100\n",
    "\n",
    "quasi_newton_l_bfgs(x0, f, g, tol, maxiter)"
   ]
  },
  {
   "cell_type": "code",
   "execution_count": null,
   "metadata": {
    "collapsed": true
   },
   "outputs": [],
   "source": []
  }
 ],
 "metadata": {
  "kernelspec": {
   "display_name": "Python 2",
   "language": "python",
   "name": "python2"
  },
  "language_info": {
   "codemirror_mode": {
    "name": "ipython",
    "version": 2
   },
   "file_extension": ".py",
   "mimetype": "text/x-python",
   "name": "python",
   "nbconvert_exporter": "python",
   "pygments_lexer": "ipython2",
   "version": "2.7.11"
  }
 },
 "nbformat": 4,
 "nbformat_minor": 0
}

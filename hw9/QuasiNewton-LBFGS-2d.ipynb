{
 "cells": [
  {
   "cell_type": "code",
   "execution_count": 1,
   "metadata": {
    "collapsed": false
   },
   "outputs": [],
   "source": [
    "'''\n",
    "Created on 2016. 5. 13\n",
    "\n",
    "@author: dato\n",
    "@desc: cnlp hw9 (quasi-newton method) - L-BFGS equation 2\n",
    "'''\n",
    "#-*- coding: utf-8 -*-\n",
    "\n",
    "import io\n",
    "import numpy as np\n",
    "from scipy.misc import derivative\n",
    "from numpy.linalg import inv\n",
    "from numpy.linalg import pinv"
   ]
  },
  {
   "cell_type": "code",
   "execution_count": 2,
   "metadata": {
    "collapsed": false
   },
   "outputs": [],
   "source": [
    "def f(x):\n",
    "    return np.log(2*np.exp(-x[0][0]) + 2 * np.exp(-x[0][0] - x[0][1]) + 2) + x[0][0] * 32/36 + x[0][1] * 24/36"
   ]
  },
  {
   "cell_type": "code",
   "execution_count": 3,
   "metadata": {
    "collapsed": false
   },
   "outputs": [],
   "source": [
    "def g(x):\n",
    "    x1=x[0][0]\n",
    "    x2=x[0][1]\n",
    "    \n",
    "    x_dx1= -( -8*(np.exp(x1+x2)) + 2*np.exp(x2) +1 ) / ( 9*(np.exp(x1+x2) + np.exp(x2) +1) )\n",
    "    x_dx2= ( 2*(np.exp(x1+x2)) + 2*np.exp(x2) -1 ) / ( 3*(np.exp(x1+x2) + np.exp(x2) +1) )\n",
    "    \n",
    "    return np.asarray([[x_dx1, x_dx2]])"
   ]
  },
  {
   "cell_type": "code",
   "execution_count": 4,
   "metadata": {
    "collapsed": true
   },
   "outputs": [],
   "source": [
    "def linesearch(x0, d, g):\n",
    "    a = 100\n",
    "    r = 0.5\n",
    "    b = 0.5\n",
    "    \n",
    "    c_tmp = -b*d.dot(g.transpose())\n",
    "    c = c_tmp[0][0]\n",
    "    \n",
    "    while True:\n",
    "\n",
    "        if f(x0) - f(x0 + a*d) >= a*c:\n",
    "            break\n",
    "        else:\n",
    "            a = r*a\n",
    "    \n",
    "    x1 = x0 + a*d\n",
    "    \n",
    "    return x1"
   ]
  },
  {
   "cell_type": "code",
   "execution_count": 5,
   "metadata": {
    "collapsed": true
   },
   "outputs": [],
   "source": [
    "def cal_p(y, s, i):\n",
    "    if i < 0:\n",
    "        print \"i is below zero\"\n",
    "    return pinv(np.dot(np.transpose(y[i]),s[i]))"
   ]
  },
  {
   "cell_type": "code",
   "execution_count": 6,
   "metadata": {
    "collapsed": true
   },
   "outputs": [],
   "source": [
    "def quasi_update_L_BFGS(s, y, g):\n",
    "\n",
    "    if( len(y) < 1):\n",
    "        return np.asarray([[2,3], [5,3]])*g\n",
    "    \n",
    "    a ={}\n",
    "    m = 5\n",
    "    q = g\n",
    "    \n",
    "#     C0 =  cal_p(y, s, len(y)-1) * np.dot(np.transpose(y[-1]),s[-1])\n",
    "    \n",
    "    for i in range(len(y)-1, len(y)-1-m, -1):\n",
    "        if i<0:\n",
    "            break\n",
    "        else:\n",
    "            a[i] = (-1) * cal_p(y, s, i)*np.transpose(s[i])*q\n",
    "            q = (-1) * (q - a[i]*y[i])\n",
    "    \n",
    "    q = cal_p(y, s, len(y)-1) * np.dot(np.transpose(y[-1]),s[-1])*q\n",
    "    \n",
    "    for i in range(m-1, len(y)+1, 1):\n",
    "        b = (-1) * cal_p(y, s, i)*np.transpose(y[i])*q\n",
    "        q = (-1) * (q + (a[i] - b)*s[i])\n",
    "\n",
    "    return q  "
   ]
  },
  {
   "cell_type": "code",
   "execution_count": 7,
   "metadata": {
    "collapsed": true
   },
   "outputs": [],
   "source": [
    "def quasi_newton_l_bfgs(x0, f, g, tol, maxiter):\n",
    "    \n",
    "    cnt = 0\n",
    "    \n",
    "    s = []\n",
    "    y = []\n",
    "    \n",
    "    first = 1\n",
    "    \n",
    "    for i in range(maxiter):\n",
    "    \n",
    "        cnt = cnt +1\n",
    "    \n",
    "        g0 = g(x0)\n",
    "        \n",
    "        if first == 1:\n",
    "            first = 0\n",
    "            d = -np.asarray([[2,3], [5,3]]).dot(g0.transpose()).transpose()\n",
    "        else:\n",
    "            d = -quasi_update_L_BFGS(s, y, g1).dot(g0.transpose()).transpose()\n",
    "        \n",
    "        x1 = linesearch(x0, d, g0)\n",
    "        \n",
    "        if np.linalg.norm(x1-x0) < tol:\n",
    "            break\n",
    "        else:\n",
    "            g1 = g(x1)\n",
    "            s.append(x1 - x0)\n",
    "            y.append(g1 - g0)\n",
    "            x0 = x1\n",
    "            \n",
    "    return x0, cnt"
   ]
  },
  {
   "cell_type": "code",
   "execution_count": 8,
   "metadata": {
    "collapsed": false,
    "scrolled": true
   },
   "outputs": [
    {
     "name": "stdout",
     "output_type": "stream",
     "text": [
      "(array([[  8.46735632, -55.0682493 ]]), 3)\n"
     ]
    },
    {
     "name": "stderr",
     "output_type": "stream",
     "text": [
      "/home/datol/anaconda2/lib/python2.7/site-packages/ipykernel/__main__.py:2: RuntimeWarning: overflow encountered in exp\n",
      "  from ipykernel import kernelapp as app\n"
     ]
    }
   ],
   "source": [
    "x0 = np.asarray([[100,100]], dtype=np.dtype('d'))\n",
    "tol = 0.01\n",
    "maxiter = 500\n",
    "\n",
    "print quasi_newton_l_bfgs(x0, f, g, tol, maxiter)"
   ]
  },
  {
   "cell_type": "code",
   "execution_count": null,
   "metadata": {
    "collapsed": true
   },
   "outputs": [],
   "source": []
  }
 ],
 "metadata": {
  "kernelspec": {
   "display_name": "Python 2",
   "language": "python",
   "name": "python2"
  },
  "language_info": {
   "codemirror_mode": {
    "name": "ipython",
    "version": 2
   },
   "file_extension": ".py",
   "mimetype": "text/x-python",
   "name": "python",
   "nbconvert_exporter": "python",
   "pygments_lexer": "ipython2",
   "version": "2.7.11"
  }
 },
 "nbformat": 4,
 "nbformat_minor": 0
}

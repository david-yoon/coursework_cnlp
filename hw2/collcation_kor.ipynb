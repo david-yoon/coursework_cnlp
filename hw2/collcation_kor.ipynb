{
 "cells": [
  {
   "cell_type": "code",
   "execution_count": 1,
   "metadata": {
    "collapsed": false
   },
   "outputs": [],
   "source": [
    "'''\n",
    "Created on 2016. 3. 17\n",
    "\n",
    "@author: dato\n",
    "@Des: cnlp hw2\n",
    "'''\n",
    "#-*- coding: utf-8 -*-\n",
    "\n",
    "\n",
    "import io\n",
    "import math\n",
    "from __future__ import division\n",
    "import sys\n",
    "import nltk\n",
    "\n",
    "from konlpy.tag import Kkma\n",
    "from os import listdir\n",
    "from os.path import isfile, join\n",
    "\n",
    "srcDir = '../data/chosun/'\n",
    "\n"
   ]
  },
  {
   "cell_type": "markdown",
   "metadata": {},
   "source": [
    "# Data Read"
   ]
  },
  {
   "cell_type": "code",
   "execution_count": 2,
   "metadata": {
    "collapsed": false
   },
   "outputs": [],
   "source": [
    "onlyfiles = [f for f in listdir(srcDir) if isfile(join(srcDir, f))]\n",
    "data=''"
   ]
  },
  {
   "cell_type": "code",
   "execution_count": 3,
   "metadata": {
    "collapsed": false,
    "scrolled": true
   },
   "outputs": [
    {
     "data": {
      "text/plain": [
       "364905"
      ]
     },
     "execution_count": 3,
     "metadata": {},
     "output_type": "execute_result"
    }
   ],
   "source": [
    "for x in range(0,len(onlyfiles)):\n",
    "#    print (onlyfiles[x])\n",
    "    path = srcDir + onlyfiles[x]\n",
    "#    print ('data read : ' + srcDir + inputFileName)\n",
    "    f = io.open(path, 'r', encoding='utf-8' )\n",
    "    data+=(f.read())\n",
    "    #f = open(path, 'r')\n",
    "len(data)"
   ]
  },
  {
   "cell_type": "code",
   "execution_count": 4,
   "metadata": {
    "collapsed": false
   },
   "outputs": [
    {
     "data": {
      "text/plain": [
       "186685"
      ]
     },
     "execution_count": 4,
     "metadata": {},
     "output_type": "execute_result"
    }
   ],
   "source": [
    "kkma = Kkma()\n",
    "token=kkma.morphs(data)\n",
    "len(token)"
   ]
  },
  {
   "cell_type": "code",
   "execution_count": null,
   "metadata": {
    "collapsed": false
   },
   "outputs": [],
   "source": [
    "\n"
   ]
  },
  {
   "cell_type": "code",
   "execution_count": 11,
   "metadata": {
    "collapsed": false
   },
   "outputs": [],
   "source": [
    "wordDic={}\n",
    "colDic={}\n",
    "\n",
    "w2=token[0].encode('utf-8')\n",
    "wordDic[w2] = 1"
   ]
  },
  {
   "cell_type": "code",
   "execution_count": 12,
   "metadata": {
    "collapsed": false
   },
   "outputs": [],
   "source": [
    "for x in range (1, len(token)):\n",
    "    w1 = w2\n",
    "    w2 = token[x].encode('utf-8')\n",
    "    if w2 not in wordDic:\n",
    "        wordDic[w2] = 1\n",
    "    else:\n",
    "        wordDic[w2] += 1\n",
    "        \n",
    "    data = w1+w2\n",
    "    \n",
    "    if len(w1)<10:\n",
    "        col='0'+len(w1).__str__()+data\n",
    "    else:\n",
    "        col=len(w1).__str__()+data\n",
    "    \n",
    "    if col not in colDic:\n",
    "        colDic[col] = 1\n",
    "    else:\n",
    "        colDic[col] += 1\n"
   ]
  },
  {
   "cell_type": "code",
   "execution_count": 17,
   "metadata": {
    "collapsed": false
   },
   "outputs": [
    {
     "data": {
      "text/plain": [
       "dict"
      ]
     },
     "execution_count": 17,
     "metadata": {},
     "output_type": "execute_result"
    }
   ],
   "source": []
  },
  {
   "cell_type": "code",
   "execution_count": 16,
   "metadata": {
    "collapsed": false
   },
   "outputs": [
    {
     "name": "stdout",
     "output_type": "stream",
     "text": [
      "186685\n"
     ]
    }
   ],
   "source": [
    "N = sum(wordDic.values())\n",
    "print (N)"
   ]
  },
  {
   "cell_type": "code",
   "execution_count": 15,
   "metadata": {
    "collapsed": false
   },
   "outputs": [
    {
     "data": {
      "text/plain": [
       "1058"
      ]
     },
     "execution_count": 15,
     "metadata": {},
     "output_type": "execute_result"
    }
   ],
   "source": [
    "wordDic[',']"
   ]
  },
  {
   "cell_type": "markdown",
   "metadata": {},
   "source": [
    "# Likelihood Calculation"
   ]
  },
  {
   "cell_type": "code",
   "execution_count": 340,
   "metadata": {
    "collapsed": false
   },
   "outputs": [],
   "source": [
    "def ratio_func(k, n, x):\n",
    "    result = math.pow(x, k)*math.pow(1-x, n-k)\n",
    "    if result==0:\n",
    "        return sys.float_info.min\n",
    "    return float(result)\n"
   ]
  },
  {
   "cell_type": "code",
   "execution_count": 341,
   "metadata": {
    "collapsed": true
   },
   "outputs": [],
   "source": [
    "def decode(data):\n",
    "    \n",
    "    num=int(data[:2])\n",
    "    a=data[2:num+2]\n",
    "    b=data[num+2:]\n",
    "    \n",
    "    return num, a, b"
   ]
  },
  {
   "cell_type": "code",
   "execution_count": 342,
   "metadata": {
    "collapsed": false
   },
   "outputs": [
    {
     "data": {
      "text/plain": [
       "-708.3964185322641"
      ]
     },
     "execution_count": 342,
     "metadata": {},
     "output_type": "execute_result"
    }
   ],
   "source": [
    "math.log(ratio_func(712,26444,0.026))"
   ]
  },
  {
   "cell_type": "code",
   "execution_count": null,
   "metadata": {
    "collapsed": false
   },
   "outputs": [],
   "source": []
  },
  {
   "cell_type": "code",
   "execution_count": null,
   "metadata": {
    "collapsed": true
   },
   "outputs": [],
   "source": []
  },
  {
   "cell_type": "code",
   "execution_count": 343,
   "metadata": {
    "collapsed": false
   },
   "outputs": [],
   "source": [
    "ratioDic={}\n",
    "\n",
    "for key, value in colDic.iteritems():\n",
    "#     print ('key=' + key)\n",
    "#     print ('value=' + value.__str__())\n",
    "\n",
    "    num, a, b = decode(key)\n",
    "       \n",
    "#     print (num)\n",
    "#     print (a)\n",
    "#     print (b)\n",
    "\n",
    "#    w=key.split('_', 1)    \n",
    "    \n",
    "    c1=float(wordDic[a])\n",
    "    c2=float(wordDic[b])\n",
    "    c12=float(value)\n",
    "    p=float(c2/N)\n",
    "    p1=float(c12/c1)\n",
    "    p2=float((c2-c12)/(N-c1))\n",
    "    \n",
    "    result=math.log(ratio_func(c12, c1, p)) + math.log(ratio_func(c2-c12, N-c1,p)) \\\n",
    "                - math.log(ratio_func(c12, c1, p1)) - math.log(ratio_func(c2-c12, N-c1, p2))\n",
    "    result = float(result * (-2))   \n",
    "  \n",
    "    ratioDic[key]=result\n",
    "    \n",
    "#     break;\n",
    "\n"
   ]
  },
  {
   "cell_type": "code",
   "execution_count": 344,
   "metadata": {
    "collapsed": false
   },
   "outputs": [],
   "source": [
    "sortRatioDic=sorted(ratioDic, key=ratioDic.get, reverse=True)"
   ]
  },
  {
   "cell_type": "code",
   "execution_count": 345,
   "metadata": {
    "collapsed": false
   },
   "outputs": [
    {
     "data": {
      "text/plain": [
       "'03\\xea\\xb8\\xb0\\xec\\x9c\\x84\\xed\\x95\\x98'"
      ]
     },
     "execution_count": 345,
     "metadata": {},
     "output_type": "execute_result"
    }
   ],
   "source": [
    "sortRatioDic[2]"
   ]
  },
  {
   "cell_type": "code",
   "execution_count": 346,
   "metadata": {
    "collapsed": true
   },
   "outputs": [],
   "source": [
    "from __future__ import print_function"
   ]
  },
  {
   "cell_type": "code",
   "execution_count": 347,
   "metadata": {
    "collapsed": false,
    "scrolled": false
   },
   "outputs": [
    {
     "name": "stdout",
     "output_type": "stream",
     "text": [
      "1054.49558681\t162\t2398\t137\t위하 어\n",
      "1015.593806\t240\t6991\t191\t어야 하\n",
      "934.014511879\t647\t162\t100\t기 위하\n",
      "919.661003419\t346\t1714\t148\t사람 들\n",
      "901.355736452\t400\t325\t138\t아니 라\n",
      "892.541574835\t647\t196\t119\t기 때문\n",
      "886.994212644\t194\t2804\t134\t많 은\n",
      "811.015611418\t309\t940\t115\t그러 나\n",
      "800.471266177\t223\t2804\t131\t같 은\n",
      "799.57681938\t509\t1058\t150\t지만 ,\n",
      "791.508382641\t453\t4485\t244\t았 다\n",
      "774.995760136\t647\t170\t88\t기 시작\n",
      "756.726196345\t1380\t5899\t1291\tㄴ다 .\n",
      "756.327443636\t181\t6991\t143\t생각 하\n",
      "750.63036636\t1062\t176\t147\t지 못하\n",
      "713.072808024\t196\t3375\t121\t때문 에\n",
      "699.404581397\t168\t729\t84\t따르 면\n",
      "685.606676584\t96\t214\t60\tㄹ까 ?\n",
      "685.488100133\t553\t1709\t346\t수 있\n",
      "648.591817676\t553\t410\t94\t수 없\n"
     ]
    }
   ],
   "source": [
    "for x in range(0, 20):\n",
    "    \n",
    "    num, a, b = decode(sortRatioDic[x])\n",
    "#     print (num)\n",
    "#     print (a)\n",
    "#     print (b)\n",
    "       \n",
    "    mergeStr = ratioDic[sortRatioDic[x]].__str__() + '\\t' \\\n",
    "        + wordDic[a].__str__() + '\\t' \\\n",
    "        + wordDic[b].__str__() + '\\t' \\\n",
    "        + colDic[sortRatioDic[x]].__str__() + '\\t'\n",
    "    \n",
    "    print(mergeStr,end=\"\")\n",
    "    print(a + ' ' + b)  \n",
    "    "
   ]
  },
  {
   "cell_type": "code",
   "execution_count": null,
   "metadata": {
    "collapsed": true
   },
   "outputs": [],
   "source": [
    "\n"
   ]
  },
  {
   "cell_type": "code",
   "execution_count": null,
   "metadata": {
    "collapsed": true
   },
   "outputs": [],
   "source": [
    "\n"
   ]
  }
 ],
 "metadata": {
  "kernelspec": {
   "display_name": "Python 2",
   "language": "python",
   "name": "python2"
  },
  "language_info": {
   "codemirror_mode": {
    "name": "ipython",
    "version": 2
   },
   "file_extension": ".py",
   "mimetype": "text/x-python",
   "name": "python",
   "nbconvert_exporter": "python",
   "pygments_lexer": "ipython2",
   "version": "2.7.6"
  }
 },
 "nbformat": 4,
 "nbformat_minor": 0
}

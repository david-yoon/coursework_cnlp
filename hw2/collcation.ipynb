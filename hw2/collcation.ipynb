{
 "cells": [
  {
   "cell_type": "code",
   "execution_count": 929,
   "metadata": {
    "collapsed": false
   },
   "outputs": [],
   "source": [
    "'''\n",
    "Created on 2016. 3. 17\n",
    "\n",
    "@author: dato\n",
    "@Des: cnlp hw2\n",
    "'''\n",
    "# coding: utf-8\n",
    "\n",
    "\n",
    "import io\n",
    "import math\n",
    "from __future__ import division\n",
    "import sys\n",
    "import nltk\n",
    "\n",
    "srcDir = '../data/'\n",
    "inputFileName = 'alice.txt'\n"
   ]
  },
  {
   "cell_type": "markdown",
   "metadata": {},
   "source": [
    "# Data Read"
   ]
  },
  {
   "cell_type": "code",
   "execution_count": 932,
   "metadata": {
    "collapsed": false
   },
   "outputs": [
    {
     "name": "stdout",
     "output_type": "stream",
     "text": [
      "data read : ../data/alice.txt\n"
     ]
    }
   ],
   "source": [
    "path = srcDir + inputFileName\n",
    "print ('data read : ' + srcDir + inputFileName)\n",
    "#f = io.open( path, 'r', encoding='utf-8' )\n",
    "f = open(path, 'r')"
   ]
  },
  {
   "cell_type": "code",
   "execution_count": 933,
   "metadata": {
    "collapsed": false
   },
   "outputs": [],
   "source": [
    "#word = f.read().split()\n",
    "#len(word)"
   ]
  },
  {
   "cell_type": "code",
   "execution_count": 934,
   "metadata": {
    "collapsed": false
   },
   "outputs": [
    {
     "data": {
      "text/plain": [
       "33314"
      ]
     },
     "execution_count": 934,
     "metadata": {},
     "output_type": "execute_result"
    }
   ],
   "source": [
    "#word = nltk.word_tokenize(f.read())\n",
    "word = nltk.word_tokenize(f.read())\n",
    "len(word)"
   ]
  },
  {
   "cell_type": "markdown",
   "metadata": {},
   "source": []
  },
  {
   "cell_type": "code",
   "execution_count": 935,
   "metadata": {
    "collapsed": false
   },
   "outputs": [],
   "source": [
    "wordDic={}\n",
    "colDic={}\n",
    "\n",
    "w2=word[0]\n",
    "wordDic[w2] = 1"
   ]
  },
  {
   "cell_type": "code",
   "execution_count": 936,
   "metadata": {
    "collapsed": false
   },
   "outputs": [],
   "source": [
    "for x in range (1, len(word)):\n",
    "    w1 = w2\n",
    "    w2 = word[x]\n",
    "    if w2 not in wordDic:\n",
    "        wordDic[w2] = 1\n",
    "    else:\n",
    "        wordDic[w2] += 1\n",
    "       \n",
    "    data = w1+w2\n",
    "    \n",
    "    if len(w1)<10:\n",
    "        col='0'+len(w1).__str__()+data\n",
    "    else:\n",
    "        col=len(w1).__str__()+data\n",
    "        \n",
    "    if col not in colDic:\n",
    "        colDic[col] = 1\n",
    "    else:\n",
    "        colDic[col] += 1    \n",
    "    \n"
   ]
  },
  {
   "cell_type": "code",
   "execution_count": 938,
   "metadata": {
    "collapsed": false
   },
   "outputs": [
    {
     "name": "stdout",
     "output_type": "stream",
     "text": [
      "33314\n"
     ]
    }
   ],
   "source": [
    "N = sum(wordDic.values())\n",
    "print (N)"
   ]
  },
  {
   "cell_type": "code",
   "execution_count": 939,
   "metadata": {
    "collapsed": false
   },
   "outputs": [
    {
     "data": {
      "text/plain": [
       "6"
      ]
     },
     "execution_count": 939,
     "metadata": {},
     "output_type": "execute_result"
    }
   ],
   "source": []
  },
  {
   "cell_type": "markdown",
   "metadata": {},
   "source": [
    "# Likelihood Calculation"
   ]
  },
  {
   "cell_type": "code",
   "execution_count": 940,
   "metadata": {
    "collapsed": false
   },
   "outputs": [],
   "source": [
    "def ratio_func(k, n, x):\n",
    "    result = math.pow(x, k)*math.pow(1-x, n-k)\n",
    "    if result==0:\n",
    "        return sys.float_info.min\n",
    "    return float(result)\n"
   ]
  },
  {
   "cell_type": "code",
   "execution_count": 941,
   "metadata": {
    "collapsed": false
   },
   "outputs": [],
   "source": [
    "def decode(data):\n",
    "    \n",
    "    num=int(data[:2])\n",
    "    a=data[2:num+2]\n",
    "    b=data[num+2:]\n",
    "    \n",
    "    return num, a, b"
   ]
  },
  {
   "cell_type": "code",
   "execution_count": 942,
   "metadata": {
    "collapsed": false
   },
   "outputs": [
    {
     "data": {
      "text/plain": [
       "-708.3964185322641"
      ]
     },
     "execution_count": 942,
     "metadata": {},
     "output_type": "execute_result"
    }
   ],
   "source": [
    "math.log(ratio_func(712,26444,0.026))"
   ]
  },
  {
   "cell_type": "code",
   "execution_count": null,
   "metadata": {
    "collapsed": true
   },
   "outputs": [],
   "source": []
  },
  {
   "cell_type": "code",
   "execution_count": 943,
   "metadata": {
    "collapsed": false
   },
   "outputs": [],
   "source": [
    "ratioDic={}\n",
    "\n",
    "for key, value in colDic.iteritems():\n",
    "#     print 'key=' + key\n",
    "#     print 'value=' + value.__str__()\n",
    "    \n",
    "    num, a, b = decode(key)\n",
    "       \n",
    "#     print num\n",
    "#     print a\n",
    "#     print b\n",
    "    \n",
    "    c1=float(wordDic[a])\n",
    "    c2=float(wordDic[b])\n",
    "    c12=float(value)\n",
    "    p=float(c2/N)\n",
    "    p1=float(c12/c1)\n",
    "    p2=float((c2-c12)/(N-c1))\n",
    "    \n",
    "    result=math.log(ratio_func(c12, c1, p)) + math.log(ratio_func(c2-c12, N-c1,p)) \\\n",
    "                - math.log(ratio_func(c12, c1, p1)) - math.log(ratio_func(c2-c12, N-c1, p2))\n",
    "    result = float(result * (-2))   \n",
    "  \n",
    "    ratioDic[key]=result\n",
    "    \n"
   ]
  },
  {
   "cell_type": "code",
   "execution_count": 944,
   "metadata": {
    "collapsed": false
   },
   "outputs": [],
   "source": [
    "sortRatioDic=sorted(ratioDic, key=ratioDic.get, reverse=True)"
   ]
  },
  {
   "cell_type": "code",
   "execution_count": 945,
   "metadata": {
    "collapsed": false
   },
   "outputs": [
    {
     "data": {
      "text/plain": [
       "\"01?'\""
      ]
     },
     "execution_count": 945,
     "metadata": {},
     "output_type": "execute_result"
    }
   ],
   "source": [
    "sortRatioDic[0]"
   ]
  },
  {
   "cell_type": "code",
   "execution_count": 946,
   "metadata": {
    "collapsed": true
   },
   "outputs": [],
   "source": [
    "from __future__ import print_function"
   ]
  },
  {
   "cell_type": "code",
   "execution_count": 947,
   "metadata": {
    "collapsed": false,
    "scrolled": true
   },
   "outputs": [
    {
     "name": "stdout",
     "output_type": "stream",
     "text": [
      "852.15342195\t202\t1127\t157\t? '\n",
      "822.157497665\t450\t1127\t282\t! '\n",
      "792.517019033\t60\t60\t57\t* *\n",
      "780.967504142\t56\t58\t55\tMock Turtle\n",
      "668.428971395\t456\t1516\t206\tsaid the\n",
      "514.240456211\t456\t393\t115\tsaid Alice\n",
      "474.421748873\t34\t31\t31\tMarch Hare\n",
      "384.908096856\t83\t187\t48\twent on\n",
      "367.569234167\t975\t1127\t187\t. '\n",
      "359.018913317\t351\t612\t95\tin a\n",
      "321.077419552\t1516\t74\t62\tthe Queen\n",
      "316.314552696\t114\t203\t46\tdo n't\n",
      "307.847313315\t1516\t60\t55\tthe King\n",
      "305.186900891\t22\t44\t22\tWhite Rabbit\n",
      "283.254584908\t612\t125\t56\ta little\n",
      "282.425653586\t1516\t54\t50\tthe Gryphon\n",
      "273.684063222\t334\t86\t42\tyou know\n",
      "269.14780049\t975\t169\t69\t. 'I\n",
      "262.772693456\t1516\t56\t49\tthe Mock\n",
      "254.875202912\t496\t1516\t127\tof the\n"
     ]
    }
   ],
   "source": [
    "for x in range(0, 20):\n",
    "    \n",
    "    num, a, b = decode(sortRatioDic[x])\n",
    "#     print (num)\n",
    "#     print (a)\n",
    "#     print (b)\n",
    "\n",
    "    mergeStr = ratioDic[sortRatioDic[x]].__str__() + '\\t' \\\n",
    "        + wordDic[a].__str__() + '\\t' \\\n",
    "        + wordDic[b].__str__() + '\\t' \\\n",
    "        + colDic[sortRatioDic[x]].__str__() + '\\t'\n",
    "    \n",
    "    print(mergeStr,end=\"\")\n",
    "    print(a + ' ' + b)  \n",
    "    "
   ]
  },
  {
   "cell_type": "code",
   "execution_count": 924,
   "metadata": {
    "collapsed": false
   },
   "outputs": [
    {
     "data": {
      "text/plain": [
       "1585.0306131407547"
      ]
     },
     "execution_count": 924,
     "metadata": {},
     "output_type": "execute_result"
    }
   ],
   "source": [
    "ratioDic[sortRatioDic[x]]"
   ]
  },
  {
   "cell_type": "code",
   "execution_count": null,
   "metadata": {
    "collapsed": true
   },
   "outputs": [],
   "source": []
  },
  {
   "cell_type": "markdown",
   "metadata": {
    "collapsed": true
   },
   "source": [
    "# NLTK collocations (for test)"
   ]
  },
  {
   "cell_type": "code",
   "execution_count": 569,
   "metadata": {
    "collapsed": true
   },
   "outputs": [],
   "source": [
    "import nltk\n",
    "from nltk.collocations import *"
   ]
  },
  {
   "cell_type": "code",
   "execution_count": 530,
   "metadata": {
    "collapsed": true
   },
   "outputs": [],
   "source": [
    "bigram_measures = nltk.collocations.BigramAssocMeasures()"
   ]
  },
  {
   "cell_type": "code",
   "execution_count": 531,
   "metadata": {
    "collapsed": false
   },
   "outputs": [],
   "source": [
    "finder = BigramCollocationFinder.from_words(word)"
   ]
  },
  {
   "cell_type": "code",
   "execution_count": 539,
   "metadata": {
    "collapsed": false
   },
   "outputs": [],
   "source": [
    "scored = finder.score_ngrams( bigram_measures.likelihood_ratio  )"
   ]
  },
  {
   "cell_type": "code",
   "execution_count": 540,
   "metadata": {
    "collapsed": false,
    "scrolled": false
   },
   "outputs": [
    {
     "data": {
      "text/plain": [
       "[((\"'\", 'said'), 1798.803623301429),\n",
       " ((',', 'and'), 1459.9648664111512),\n",
       " (('!', \"'\"), 1398.957855414806),\n",
       " (('?', \"'\"), 873.953272828375),\n",
       " ((',', \"'\"), 799.1741684120142),\n",
       " (('*', '*'), 792.5170190329021),\n",
       " (('Mock', 'Turtle'), 780.9675041418021),\n",
       " (('said', 'the'), 693.4831468565453),\n",
       " (('said', 'Alice'), 549.0336571486507),\n",
       " (('March', 'Hare'), 474.42174887346346)]"
      ]
     },
     "execution_count": 540,
     "metadata": {},
     "output_type": "execute_result"
    }
   ],
   "source": [
    "scored[0:10]"
   ]
  },
  {
   "cell_type": "code",
   "execution_count": null,
   "metadata": {
    "collapsed": true
   },
   "outputs": [],
   "source": []
  }
 ],
 "metadata": {
  "kernelspec": {
   "display_name": "Python 2",
   "language": "python",
   "name": "python2"
  },
  "language_info": {
   "codemirror_mode": {
    "name": "ipython",
    "version": 2
   },
   "file_extension": ".py",
   "mimetype": "text/x-python",
   "name": "python",
   "nbconvert_exporter": "python",
   "pygments_lexer": "ipython2",
   "version": "2.7.6"
  }
 },
 "nbformat": 4,
 "nbformat_minor": 0
}
